{
 "cells": [
  {
   "cell_type": "code",
   "execution_count": 5,
   "id": "a91d2131",
   "metadata": {},
   "outputs": [],
   "source": [
    "import os\n",
    "import sys\n",
    "\n",
    "os.environ['PYSPARK_PYTHON'] = sys.executable\n",
    "os.environ['PYSPARK_DRIVER_PYTHON'] = sys.executable\n",
    "\n",
    "os.environ[\"JAVA_HOME\"] = \"C:\\\\java\"\n",
    "os.environ[\"HADOOP_HOME\"] = \"C:\\\\hadoop\"\n",
    "os.environ[\"PATH\"] += os.pathsep + os.path.join(os.environ[\"HADOOP_HOME\"], \"bin\")"
   ]
  },
  {
   "cell_type": "code",
   "execution_count": 6,
   "id": "63ca381b",
   "metadata": {},
   "outputs": [],
   "source": [
    "from pyspark.sql import SparkSession\n",
    "from pyspark.sql.functions import *\n",
    "from pyspark.sql.types import *"
   ]
  },
  {
   "cell_type": "code",
   "execution_count": 7,
   "id": "55f17941",
   "metadata": {},
   "outputs": [],
   "source": [
    "spark = (\n",
    "    SparkSession.builder\n",
    "    .appName(\"Conhecimentos_Pyspark_03\")\n",
    "    .master(\"local[*]\")\n",
    "    .config(\"spark.sql.shuffle.partitions\", \"4\")\n",
    "    .getOrCreate()\n",
    ")"
   ]
  },
  {
   "cell_type": "code",
   "execution_count": 8,
   "id": "45225e9d",
   "metadata": {},
   "outputs": [],
   "source": [
    "df = spark.read.csv('Arquivos/vendas.csv', header=True, inferSchema=True, sep=';')"
   ]
  },
  {
   "cell_type": "code",
   "execution_count": 9,
   "id": "0db5bd25",
   "metadata": {},
   "outputs": [
    {
     "name": "stdout",
     "output_type": "stream",
     "text": [
      "+---------+------+-----------+---------+\n",
      "|     Nome|filial|      valor|quantiade|\n",
      "+---------+------+-----------+---------+\n",
      "|     Cama|    MG|R$ 3.500,00|        1|\n",
      "|Geladeira|    MA|         2k|        6|\n",
      "|     Mesa|    PA|    1500.00|        4|\n",
      "|     Sofá|    AP|       3mil|        5|\n",
      "+---------+------+-----------+---------+\n",
      "\n"
     ]
    }
   ],
   "source": [
    "df.show()"
   ]
  },
  {
   "cell_type": "code",
   "execution_count": 10,
   "id": "6f3ed699",
   "metadata": {},
   "outputs": [
    {
     "name": "stdout",
     "output_type": "stream",
     "text": [
      "+---------+------+---------+---------+\n",
      "|     Nome|filial|    valor|quantiade|\n",
      "+---------+------+---------+---------+\n",
      "|     Cama|    MG| 3.500.00|        1|\n",
      "|Geladeira|    MA|     2000|        6|\n",
      "|     Mesa|    PA|  1500.00|        4|\n",
      "|     Sofá|    AP|     3000|        5|\n",
      "+---------+------+---------+---------+\n",
      "\n"
     ]
    }
   ],
   "source": [
    "df = df.withColumn('valor', regexp_replace(col('valor'),'mil','000'))\n",
    "df = df.withColumn('valor', regexp_replace(col('valor'),'k','000'))\n",
    "df = df.withColumn('valor', regexp_replace(col('valor'),',','.'))\n",
    "df = df.withColumn('valor', regexp_replace(col('valor'),'R\\\\$',''))\n",
    "df.show()"
   ]
  },
  {
   "cell_type": "code",
   "execution_count": 32,
   "id": "2c3cbf01",
   "metadata": {},
   "outputs": [
    {
     "data": {
      "text/plain": [
       "'df = df.withColumn(\\n    \"valor\",\\n    when(col(\"valor\").like(\"%.00\"), col(\"valor\"))\\n    .otherwise(col(\"valor\") + \".00\")\\n)'"
      ]
     },
     "execution_count": 32,
     "metadata": {},
     "output_type": "execute_result"
    }
   ],
   "source": [
    "'''df = df.withColumn(\n",
    "    \"valor\",\n",
    "    when(col(\"valor\").like(\"%.00\"), col(\"valor\"))\n",
    "    .otherwise(col(\"valor\") + \".00\")\n",
    ")'''"
   ]
  }
 ],
 "metadata": {
  "kernelspec": {
   "display_name": "Python 3",
   "language": "python",
   "name": "python3"
  },
  "language_info": {
   "codemirror_mode": {
    "name": "ipython",
    "version": 3
   },
   "file_extension": ".py",
   "mimetype": "text/x-python",
   "name": "python",
   "nbconvert_exporter": "python",
   "pygments_lexer": "ipython3",
   "version": "3.10.11"
  }
 },
 "nbformat": 4,
 "nbformat_minor": 5
}
