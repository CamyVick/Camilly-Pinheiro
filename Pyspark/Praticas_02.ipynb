{
 "cells": [
  {
   "cell_type": "code",
   "execution_count": 6,
   "id": "94ad4bec",
   "metadata": {},
   "outputs": [],
   "source": [
    "import os\n",
    "import sys\n",
    "from pyspark.sql import SparkSession\n",
    "\n",
    "# ✅ Garantir que PySpark use o Python atual\n",
    "os.environ['PYSPARK_PYTHON'] = sys.executable\n",
    "os.environ['PYSPARK_DRIVER_PYTHON'] = sys.executable\n",
    "\n",
    "# ✅ Garantir que Spark use o Java 17 e winutils\n",
    "os.environ[\"JAVA_HOME\"] = \"C:\\\\java\"\n",
    "os.environ[\"HADOOP_HOME\"] = \"C:\\\\hadoop\"\n",
    "os.environ[\"PATH\"] += os.pathsep + os.path.join(os.environ[\"HADOOP_HOME\"], \"bin\")"
   ]
  },
  {
   "cell_type": "code",
   "execution_count": 7,
   "id": "2d81707d",
   "metadata": {},
   "outputs": [],
   "source": [
    "from pyspark.sql import SparkSession\n",
    "from pyspark.sql.functions import *\n",
    "from pyspark.sql.types import *"
   ]
  },
  {
   "cell_type": "code",
   "execution_count": 8,
   "id": "562eb0d9",
   "metadata": {},
   "outputs": [],
   "source": [
    "spark = (\n",
    "    SparkSession.builder\n",
    "    .appName(\"Conhecimentos_Pyspark_02\")\n",
    "    .master(\"local[*]\")\n",
    "    .config(\"spark.sql.shuffle.partitions\", \"4\")\n",
    "    .getOrCreate()\n",
    ")"
   ]
  },
  {
   "cell_type": "code",
   "execution_count": 9,
   "id": "5f797944",
   "metadata": {},
   "outputs": [],
   "source": [
    "df = spark.read.csv('Arquivos/nomes.csv', header=True, inferSchema=False, sep=';')"
   ]
  },
  {
   "cell_type": "code",
   "execution_count": 10,
   "id": "f40a7dc0",
   "metadata": {},
   "outputs": [
    {
     "name": "stdout",
     "output_type": "stream",
     "text": [
      "+--------------+----------+\n",
      "|          Nome|      data|\n",
      "+--------------+----------+\n",
      "|       CAMILLY|03/31/2002|\n",
      "|        YasMIM|06/13/2002|\n",
      "|Fernado pessoa|12/25/1990|\n",
      "|       mariana|09/11/1985|\n",
      "|       peDRASO|08/15/2022|\n",
      "+--------------+----------+\n",
      "\n"
     ]
    }
   ],
   "source": [
    "df.show()"
   ]
  },
  {
   "cell_type": "code",
   "execution_count": 11,
   "id": "9786d038",
   "metadata": {},
   "outputs": [],
   "source": [
    "df = df.withColumn('Nome', initcap(col('Nome')))"
   ]
  },
  {
   "cell_type": "code",
   "execution_count": 12,
   "id": "47972d10",
   "metadata": {},
   "outputs": [],
   "source": [
    "mes = udf(lambda mes: mes.split('/')[0])\n",
    "dia = udf(lambda dia: dia.split('/')[1])\n",
    "ano = udf(lambda ano: ano.split('/')[2])"
   ]
  },
  {
   "cell_type": "code",
   "execution_count": 13,
   "id": "b96c8562",
   "metadata": {},
   "outputs": [],
   "source": [
    "df = df.withColumn('Dia',dia('data'))\n",
    "df = df.withColumn('Mês',mes('data'))\n",
    "df = df.withColumn('Ano',ano('data'))"
   ]
  },
  {
   "cell_type": "code",
   "execution_count": 14,
   "id": "c56bbbf7",
   "metadata": {},
   "outputs": [
    {
     "name": "stdout",
     "output_type": "stream",
     "text": [
      "+--------------+----------+---+---+----+\n",
      "|          Nome|      data|Dia|Mês| Ano|\n",
      "+--------------+----------+---+---+----+\n",
      "|       Camilly|03/31/2002| 31| 03|2002|\n",
      "|        Yasmim|06/13/2002| 13| 06|2002|\n",
      "|Fernado Pessoa|12/25/1990| 25| 12|1990|\n",
      "|       Mariana|09/11/1985| 11| 09|1985|\n",
      "|       Pedraso|08/15/2022| 15| 08|2022|\n",
      "+--------------+----------+---+---+----+\n",
      "\n"
     ]
    }
   ],
   "source": [
    "df.show()"
   ]
  },
  {
   "cell_type": "code",
   "execution_count": 15,
   "id": "26cebeef",
   "metadata": {},
   "outputs": [],
   "source": [
    "df = df.withColumn('Data_nova', concat_ws('-','Ano','Mês','Dia'))"
   ]
  },
  {
   "cell_type": "code",
   "execution_count": 16,
   "id": "bd1bcfce",
   "metadata": {},
   "outputs": [],
   "source": [
    "df = df.select('Nome','Data_nova')"
   ]
  },
  {
   "cell_type": "code",
   "execution_count": 17,
   "id": "89b44d05",
   "metadata": {},
   "outputs": [],
   "source": [
    "df = df.withColumnRenamed('Data_nova','Data de Nascimento')"
   ]
  },
  {
   "cell_type": "code",
   "execution_count": 18,
   "id": "6a1ad454",
   "metadata": {},
   "outputs": [
    {
     "name": "stdout",
     "output_type": "stream",
     "text": [
      "+--------------+------------------+\n",
      "|          Nome|Data de Nascimento|\n",
      "+--------------+------------------+\n",
      "|       Camilly|        2002-03-31|\n",
      "|        Yasmim|        2002-06-13|\n",
      "|Fernado Pessoa|        1990-12-25|\n",
      "|       Mariana|        1985-09-11|\n",
      "|       Pedraso|        2022-08-15|\n",
      "+--------------+------------------+\n",
      "\n"
     ]
    }
   ],
   "source": [
    "df.show()"
   ]
  },
  {
   "cell_type": "code",
   "execution_count": 19,
   "id": "a7664c0e",
   "metadata": {},
   "outputs": [],
   "source": [
    "output_path = \"C:\\\\Users\\\\camil\\\\Documents\\\\Portifolio\\\\Pyspark\\\\saida_csv\""
   ]
  },
  {
   "cell_type": "code",
   "execution_count": 20,
   "id": "b1b3fe2a",
   "metadata": {},
   "outputs": [],
   "source": [
    "df.coalesce(1).write.csv(\n",
    "    path=output_path,\n",
    "    header=True,\n",
    "    mode=\"overwrite\",\n",
    "    sep=';'\n",
    ")"
   ]
  },
  {
   "cell_type": "code",
   "execution_count": 21,
   "id": "3b56147c",
   "metadata": {},
   "outputs": [
    {
     "name": "stdout",
     "output_type": "stream",
     "text": [
      "✅ Arquivo CSV salvo com sucesso em:\n",
      "C:\\Users\\camil\\Documents\\Portifolio\\Pyspark\\saida_csv\n"
     ]
    }
   ],
   "source": [
    "print(f\"✅ Arquivo CSV salvo com sucesso em:\\n{output_path}\")"
   ]
  }
 ],
 "metadata": {
  "kernelspec": {
   "display_name": "Python 3",
   "language": "python",
   "name": "python3"
  },
  "language_info": {
   "codemirror_mode": {
    "name": "ipython",
    "version": 3
   },
   "file_extension": ".py",
   "mimetype": "text/x-python",
   "name": "python",
   "nbconvert_exporter": "python",
   "pygments_lexer": "ipython3",
   "version": "3.10.11"
  }
 },
 "nbformat": 4,
 "nbformat_minor": 5
}
