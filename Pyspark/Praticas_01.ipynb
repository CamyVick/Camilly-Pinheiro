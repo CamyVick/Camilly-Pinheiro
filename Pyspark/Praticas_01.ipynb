{
 "cells": [
  {
   "cell_type": "markdown",
   "id": "ef815024",
   "metadata": {},
   "source": [
    "Iniciando"
   ]
  },
  {
   "cell_type": "code",
   "execution_count": 28,
   "id": "641ebff6",
   "metadata": {},
   "outputs": [],
   "source": [
    "import os \n",
    "import sys \n",
    "\n",
    "os.environ['PYSPARK_PYTHON'] = sys.executable\n",
    "os.environ['PYSPARK_DRIVER_PYTHON'] = sys.executable\n",
    "\n",
    "os.environ[\"JAVA_HOME\"] = \"C:\\\\java\"\n",
    "os.environ[\"HADOOP_HOME\"] = \"C:\\\\hadoop\"\n",
    "os.environ[\"PATH\"] += os.pathsep + os.path.join(os.environ[\"HADOOP_HOME\"], \"bin\")\n"
   ]
  },
  {
   "cell_type": "code",
   "execution_count": 29,
   "id": "ad936721",
   "metadata": {},
   "outputs": [],
   "source": [
    "from pyspark.sql import SparkSession\n",
    "from pyspark.sql.functions import *\n",
    "from pyspark.sql.types import *"
   ]
  },
  {
   "cell_type": "code",
   "execution_count": 30,
   "id": "1f5b6414",
   "metadata": {},
   "outputs": [],
   "source": [
    "spark = (\n",
    "    SparkSession.builder\n",
    "    .appName(\"Conhecimentos_Pyspark_01\")\n",
    "    .master(\"local[*]\")\n",
    "    .config(\"spark.sql.shuffle.partitions\", \"4\")\n",
    "    .getOrCreate()\n",
    ")"
   ]
  },
  {
   "cell_type": "markdown",
   "id": "f0bd5aad",
   "metadata": {},
   "source": [
    "Vendo as Linhas e Colunas\n"
   ]
  },
  {
   "cell_type": "code",
   "execution_count": 31,
   "id": "92bfb248",
   "metadata": {},
   "outputs": [],
   "source": [
    "df = spark.read.csv('Arquivos/pessoas.csv',header=True, inferSchema=True,sep=';')"
   ]
  },
  {
   "cell_type": "code",
   "execution_count": 32,
   "id": "d05410f6",
   "metadata": {},
   "outputs": [
    {
     "name": "stdout",
     "output_type": "stream",
     "text": [
      "+-------+------+-----+\n",
      "|   nome|regiao|idade|\n",
      "+-------+------+-----+\n",
      "|  Karen|    AM|   61|\n",
      "| Olivia|    PE|   48|\n",
      "|  Lucas|    RS|   40|\n",
      "|  Paulo|    SC|   66|\n",
      "|Rafaela|    CE|   44|\n",
      "| Helena|    MT|   61|\n",
      "|Nicolas|    MT|   45|\n",
      "|  Lucas|    MT|   36|\n",
      "|Tatiane|    MS|   54|\n",
      "|  Paulo|    SP|   66|\n",
      "|Eduardo|    AM|   62|\n",
      "|Daniela|    RJ|   39|\n",
      "|Tatiane|    CE|   34|\n",
      "|Tatiane|    MS|   18|\n",
      "|Eduardo|    PR|   47|\n",
      "|Gabriel|    RJ|   70|\n",
      "|  Lucas|    MG|   52|\n",
      "| Olivia|    GO|   63|\n",
      "|  Bruno|    GO|   37|\n",
      "| Helena|    PA|   64|\n",
      "+-------+------+-----+\n",
      "only showing top 20 rows\n"
     ]
    }
   ],
   "source": [
    "df.show()"
   ]
  },
  {
   "cell_type": "markdown",
   "id": "8bbe7611",
   "metadata": {},
   "source": [
    "Descobrindo o Schema do aquivo"
   ]
  },
  {
   "cell_type": "code",
   "execution_count": 33,
   "id": "0627ff28",
   "metadata": {},
   "outputs": [
    {
     "name": "stdout",
     "output_type": "stream",
     "text": [
      "root\n",
      " |-- nome: string (nullable = true)\n",
      " |-- regiao: string (nullable = true)\n",
      " |-- idade: integer (nullable = true)\n",
      "\n"
     ]
    }
   ],
   "source": [
    "df.printSchema()"
   ]
  },
  {
   "cell_type": "markdown",
   "id": "87e025e7",
   "metadata": {},
   "source": [
    "Vendo dados Nulos"
   ]
  },
  {
   "cell_type": "code",
   "execution_count": 34,
   "id": "29037268",
   "metadata": {},
   "outputs": [
    {
     "data": {
      "text/plain": [
       "nome      0\n",
       "regiao    0\n",
       "idade     0\n",
       "dtype: int64"
      ]
     },
     "execution_count": 34,
     "metadata": {},
     "output_type": "execute_result"
    }
   ],
   "source": [
    "df.toPandas().isna().sum()"
   ]
  },
  {
   "cell_type": "code",
   "execution_count": 35,
   "id": "3ccd2ac5",
   "metadata": {},
   "outputs": [
    {
     "name": "stdout",
     "output_type": "stream",
     "text": [
      "nome 0\n",
      "regiao 0\n",
      "idade 0\n"
     ]
    }
   ],
   "source": [
    "for coluna in df.columns:\n",
    "    print(coluna, df.filter(df[coluna].isNull()).count())"
   ]
  },
  {
   "cell_type": "markdown",
   "id": "e447fe1a",
   "metadata": {},
   "source": [
    "Renomeando"
   ]
  },
  {
   "cell_type": "code",
   "execution_count": 36,
   "id": "567982ad",
   "metadata": {},
   "outputs": [
    {
     "name": "stdout",
     "output_type": "stream",
     "text": [
      "+--------+------+-----+\n",
      "|Clientes|regiao|idade|\n",
      "+--------+------+-----+\n",
      "|   Karen|    AM|   61|\n",
      "|  Olivia|    PE|   48|\n",
      "|   Lucas|    RS|   40|\n",
      "|   Paulo|    SC|   66|\n",
      "| Rafaela|    CE|   44|\n",
      "|  Helena|    MT|   61|\n",
      "| Nicolas|    MT|   45|\n",
      "|   Lucas|    MT|   36|\n",
      "| Tatiane|    MS|   54|\n",
      "|   Paulo|    SP|   66|\n",
      "| Eduardo|    AM|   62|\n",
      "| Daniela|    RJ|   39|\n",
      "| Tatiane|    CE|   34|\n",
      "| Tatiane|    MS|   18|\n",
      "| Eduardo|    PR|   47|\n",
      "| Gabriel|    RJ|   70|\n",
      "|   Lucas|    MG|   52|\n",
      "|  Olivia|    GO|   63|\n",
      "|   Bruno|    GO|   37|\n",
      "|  Helena|    PA|   64|\n",
      "+--------+------+-----+\n",
      "only showing top 20 rows\n"
     ]
    }
   ],
   "source": [
    "df.withColumnRenamed('nome','Clientes').show()"
   ]
  },
  {
   "cell_type": "markdown",
   "id": "0f59f59f",
   "metadata": {},
   "source": [
    "Atribuindo Valores as colunas"
   ]
  },
  {
   "cell_type": "code",
   "execution_count": 37,
   "id": "b5f6ef0d",
   "metadata": {},
   "outputs": [
    {
     "name": "stdout",
     "output_type": "stream",
     "text": [
      "+--------+------+-----+\n",
      "|Clientes|regiao|idade|\n",
      "+--------+------+-----+\n",
      "|   Karen|    AM|   61|\n",
      "|  Olivia|    PE|   48|\n",
      "|   Lucas|    RS|   40|\n",
      "|   Paulo|    SC|   66|\n",
      "| Rafaela|    CE|   44|\n",
      "|  Helena|    MT|   61|\n",
      "| Nicolas|    MT|   45|\n",
      "|   Lucas|    MT|   36|\n",
      "| Tatiane|    MS|   54|\n",
      "|   Paulo|    SP|   66|\n",
      "| Eduardo|    AM|   62|\n",
      "| Daniela|    RJ|   39|\n",
      "| Tatiane|    CE|   34|\n",
      "| Tatiane|    MS|   18|\n",
      "| Eduardo|    PR|   47|\n",
      "| Gabriel|    RJ|   70|\n",
      "|   Lucas|    MG|   52|\n",
      "|  Olivia|    GO|   63|\n",
      "|   Bruno|    GO|   37|\n",
      "|  Helena|    PA|   64|\n",
      "+--------+------+-----+\n",
      "only showing top 20 rows\n"
     ]
    }
   ],
   "source": [
    "df = df.withColumnRenamed('nome','Clientes')\n",
    "df.show()"
   ]
  },
  {
   "cell_type": "code",
   "execution_count": 38,
   "id": "62ebc4e6",
   "metadata": {},
   "outputs": [
    {
     "data": {
      "text/plain": [
       "['Clientes', 'regiao', 'idade']"
      ]
     },
     "execution_count": 38,
     "metadata": {},
     "output_type": "execute_result"
    }
   ],
   "source": [
    "df.columns"
   ]
  },
  {
   "cell_type": "code",
   "execution_count": 39,
   "id": "397c004c",
   "metadata": {},
   "outputs": [
    {
     "name": "stdout",
     "output_type": "stream",
     "text": [
      "+--------+-----+\n",
      "|Clientes|Idade|\n",
      "+--------+-----+\n",
      "|   Karen|   61|\n",
      "|  Olivia|   48|\n",
      "|   Lucas|   40|\n",
      "|   Paulo|   66|\n",
      "| Rafaela|   44|\n",
      "|  Helena|   61|\n",
      "| Nicolas|   45|\n",
      "|   Lucas|   36|\n",
      "| Tatiane|   54|\n",
      "|   Paulo|   66|\n",
      "| Eduardo|   62|\n",
      "| Daniela|   39|\n",
      "| Tatiane|   34|\n",
      "| Tatiane|   18|\n",
      "| Eduardo|   47|\n",
      "| Gabriel|   70|\n",
      "|   Lucas|   52|\n",
      "|  Olivia|   63|\n",
      "|   Bruno|   37|\n",
      "|  Helena|   64|\n",
      "+--------+-----+\n",
      "only showing top 20 rows\n"
     ]
    }
   ],
   "source": [
    "df.select('Clientes', 'Idade').show()"
   ]
  },
  {
   "cell_type": "markdown",
   "id": "9b46cea6",
   "metadata": {},
   "source": [
    "Com ALIAS"
   ]
  },
  {
   "cell_type": "code",
   "execution_count": 40,
   "id": "ec1a8ea4",
   "metadata": {},
   "outputs": [
    {
     "name": "stdout",
     "output_type": "stream",
     "text": [
      "+---------+\n",
      "|Favorites|\n",
      "+---------+\n",
      "|    Karen|\n",
      "|   Olivia|\n",
      "|    Lucas|\n",
      "|    Paulo|\n",
      "|  Rafaela|\n",
      "|   Helena|\n",
      "|  Nicolas|\n",
      "|    Lucas|\n",
      "|  Tatiane|\n",
      "|    Paulo|\n",
      "|  Eduardo|\n",
      "|  Daniela|\n",
      "|  Tatiane|\n",
      "|  Tatiane|\n",
      "|  Eduardo|\n",
      "|  Gabriel|\n",
      "|    Lucas|\n",
      "|   Olivia|\n",
      "|    Bruno|\n",
      "|   Helena|\n",
      "+---------+\n",
      "only showing top 20 rows\n"
     ]
    }
   ],
   "source": [
    "df.select(df['Clientes'].alias('Favorites')).show()"
   ]
  },
  {
   "cell_type": "markdown",
   "id": "862fb439",
   "metadata": {},
   "source": [
    "Organizar Select"
   ]
  },
  {
   "cell_type": "code",
   "execution_count": 41,
   "id": "1f44591b",
   "metadata": {},
   "outputs": [
    {
     "name": "stdout",
     "output_type": "stream",
     "text": [
      "+-----+--------+------+\n",
      "|idade|Clientes|regiao|\n",
      "+-----+--------+------+\n",
      "|   61|   Karen|    AM|\n",
      "|   48|  Olivia|    PE|\n",
      "|   40|   Lucas|    RS|\n",
      "|   66|   Paulo|    SC|\n",
      "|   44| Rafaela|    CE|\n",
      "|   61|  Helena|    MT|\n",
      "|   45| Nicolas|    MT|\n",
      "|   36|   Lucas|    MT|\n",
      "|   54| Tatiane|    MS|\n",
      "|   66|   Paulo|    SP|\n",
      "|   62| Eduardo|    AM|\n",
      "|   39| Daniela|    RJ|\n",
      "|   34| Tatiane|    CE|\n",
      "|   18| Tatiane|    MS|\n",
      "|   47| Eduardo|    PR|\n",
      "|   70| Gabriel|    RJ|\n",
      "|   52|   Lucas|    MG|\n",
      "|   63|  Olivia|    GO|\n",
      "|   37|   Bruno|    GO|\n",
      "|   64|  Helena|    PA|\n",
      "+-----+--------+------+\n",
      "only showing top 20 rows\n"
     ]
    }
   ],
   "source": [
    "df.select('idade','Clientes','regiao').show()"
   ]
  },
  {
   "cell_type": "markdown",
   "id": "bb69fb7d",
   "metadata": {},
   "source": [
    "Filtro DF"
   ]
  },
  {
   "cell_type": "code",
   "execution_count": 42,
   "id": "b0842068",
   "metadata": {},
   "outputs": [
    {
     "name": "stdout",
     "output_type": "stream",
     "text": [
      "+--------+------+-----+\n",
      "|Clientes|regiao|idade|\n",
      "+--------+------+-----+\n",
      "| Tatiane|    MS|   54|\n",
      "| Tatiane|    CE|   34|\n",
      "| Tatiane|    MS|   18|\n",
      "| Tatiane|    MS|   38|\n",
      "+--------+------+-----+\n",
      "\n"
     ]
    }
   ],
   "source": [
    "df.filter('Clientes = \"Tatiane\"').show()"
   ]
  },
  {
   "cell_type": "code",
   "execution_count": 43,
   "id": "75608de4",
   "metadata": {},
   "outputs": [
    {
     "name": "stdout",
     "output_type": "stream",
     "text": [
      "+--------+------+-----+\n",
      "|Clientes|regiao|idade|\n",
      "+--------+------+-----+\n",
      "|   Karen|    AM|   61|\n",
      "|  Olivia|    PE|   48|\n",
      "|   Paulo|    SC|   66|\n",
      "|  Helena|    MT|   61|\n",
      "| Nicolas|    MT|   45|\n",
      "| Tatiane|    MS|   54|\n",
      "|   Paulo|    SP|   66|\n",
      "| Eduardo|    AM|   62|\n",
      "| Eduardo|    PR|   47|\n",
      "| Gabriel|    RJ|   70|\n",
      "|   Lucas|    MG|   52|\n",
      "|  Olivia|    GO|   63|\n",
      "|  Helena|    PA|   64|\n",
      "|   Paulo|    MT|   61|\n",
      "|    Igor|    PR|   53|\n",
      "| Eduardo|    BA|   63|\n",
      "|     Ana|    DF|   62|\n",
      "|  Carlos|    MG|   54|\n",
      "| Rafaela|    GO|   55|\n",
      "|Fernanda|    PA|   47|\n",
      "+--------+------+-----+\n",
      "only showing top 20 rows\n"
     ]
    }
   ],
   "source": [
    "df.filter(col(\"idade\") > '44').show()"
   ]
  },
  {
   "cell_type": "code",
   "execution_count": 44,
   "id": "d6111896",
   "metadata": {},
   "outputs": [
    {
     "name": "stdout",
     "output_type": "stream",
     "text": [
      "+--------+------+-----+\n",
      "|Clientes|regiao|idade|\n",
      "+--------+------+-----+\n",
      "|   Karen|    AM|   61|\n",
      "|  Olivia|    PE|   48|\n",
      "|   Lucas|    RS|   40|\n",
      "|   Paulo|    SC|   66|\n",
      "| Rafaela|    CE|   44|\n",
      "|  Helena|    MT|   61|\n",
      "| Nicolas|    MT|   45|\n",
      "|   Lucas|    MT|   36|\n",
      "| Tatiane|    MS|   54|\n",
      "|   Paulo|    SP|   66|\n",
      "| Eduardo|    AM|   62|\n",
      "| Daniela|    RJ|   39|\n",
      "| Tatiane|    CE|   34|\n",
      "| Tatiane|    MS|   18|\n",
      "| Eduardo|    PR|   47|\n",
      "| Gabriel|    RJ|   70|\n",
      "|   Lucas|    MG|   52|\n",
      "|  Olivia|    GO|   63|\n",
      "|   Bruno|    GO|   37|\n",
      "|  Helena|    PA|   64|\n",
      "+--------+------+-----+\n",
      "only showing top 20 rows\n"
     ]
    }
   ],
   "source": [
    "df.show()"
   ]
  },
  {
   "cell_type": "markdown",
   "id": "db3cf1e2",
   "metadata": {},
   "source": [
    "Filtro com condicional AND &"
   ]
  },
  {
   "cell_type": "code",
   "execution_count": 45,
   "id": "9c409520",
   "metadata": {},
   "outputs": [
    {
     "name": "stdout",
     "output_type": "stream",
     "text": [
      "+--------+------+-----+\n",
      "|Clientes|regiao|idade|\n",
      "+--------+------+-----+\n",
      "|   Paulo|    SP|   66|\n",
      "|  Olivia|    SP|   63|\n",
      "|   Lucas|    SP|   68|\n",
      "|Vinícius|    SP|   70|\n",
      "|Vinícius|    SP|   65|\n",
      "+--------+------+-----+\n",
      "\n"
     ]
    }
   ],
   "source": [
    "df.filter((col('regiao') == 'SP') & (col('Idade') >= 55)).show()"
   ]
  },
  {
   "cell_type": "code",
   "execution_count": 46,
   "id": "5858677d",
   "metadata": {},
   "outputs": [
    {
     "name": "stdout",
     "output_type": "stream",
     "text": [
      "+--------+------+-----+\n",
      "|Clientes|regiao|idade|\n",
      "+--------+------+-----+\n",
      "|   Paulo|    SP|   66|\n",
      "|  Olivia|    SP|   63|\n",
      "|   Lucas|    SP|   68|\n",
      "|Vinícius|    SP|   70|\n",
      "|Vinícius|    SP|   65|\n",
      "+--------+------+-----+\n",
      "\n"
     ]
    }
   ],
   "source": [
    "df.filter('regiao = \"SP\"').filter(col('Idade') >= 55).show()"
   ]
  },
  {
   "cell_type": "markdown",
   "id": "5894cea1",
   "metadata": {},
   "source": [
    "Filtro com condicional OR |"
   ]
  },
  {
   "cell_type": "code",
   "execution_count": 47,
   "id": "a0400479",
   "metadata": {},
   "outputs": [
    {
     "name": "stdout",
     "output_type": "stream",
     "text": [
      "+--------+------+-----+\n",
      "|Clientes|regiao|idade|\n",
      "+--------+------+-----+\n",
      "|   Karen|    AM|   61|\n",
      "|   Paulo|    SC|   66|\n",
      "|  Helena|    MT|   61|\n",
      "|   Paulo|    SP|   66|\n",
      "| Eduardo|    AM|   62|\n",
      "| Daniela|    RJ|   39|\n",
      "| Gabriel|    RJ|   70|\n",
      "|  Olivia|    GO|   63|\n",
      "|  Helena|    PA|   64|\n",
      "|   Paulo|    MT|   61|\n",
      "| Eduardo|    BA|   63|\n",
      "|     Ana|    DF|   62|\n",
      "|   Lucas|    AM|   68|\n",
      "|  Olivia|    SP|   63|\n",
      "| Mariana|    GO|   58|\n",
      "| Juliana|    RJ|   64|\n",
      "|Vinícius|    RJ|   60|\n",
      "|  Carlos|    MG|   67|\n",
      "|   Lucas|    SP|   68|\n",
      "| Mariana|    RJ|   20|\n",
      "+--------+------+-----+\n",
      "only showing top 20 rows\n"
     ]
    }
   ],
   "source": [
    "df.filter((col('regiao') == 'RJ') | (col('idade')>55)).show()"
   ]
  },
  {
   "cell_type": "markdown",
   "id": "680ff300",
   "metadata": {},
   "source": [
    "Filtro com condicional OR | e AND & "
   ]
  },
  {
   "cell_type": "code",
   "execution_count": 48,
   "id": "705e56ca",
   "metadata": {},
   "outputs": [
    {
     "name": "stdout",
     "output_type": "stream",
     "text": [
      "+--------+------+-----+\n",
      "|Clientes|regiao|idade|\n",
      "+--------+------+-----+\n",
      "+--------+------+-----+\n",
      "\n"
     ]
    }
   ],
   "source": [
    "df.filter((col('regiao') == 'sp') & (col('idade')>55) | (col('Clientes') == 'silvia')).show()"
   ]
  },
  {
   "cell_type": "markdown",
   "id": "86ce54ae",
   "metadata": {},
   "source": [
    "Criar novas Colunas"
   ]
  },
  {
   "cell_type": "code",
   "execution_count": 49,
   "id": "0c419e30",
   "metadata": {},
   "outputs": [],
   "source": [
    "df = df.withColumn('Comprou', lit(50)).withColumn('Unidades', lit(20)).withColumn('total', col('Unidades') * col('Comprou'))"
   ]
  },
  {
   "cell_type": "markdown",
   "id": "1cb6e208",
   "metadata": {},
   "source": [
    "Nova coluna com substring"
   ]
  },
  {
   "cell_type": "code",
   "execution_count": 50,
   "id": "8ea51b86",
   "metadata": {},
   "outputs": [
    {
     "name": "stdout",
     "output_type": "stream",
     "text": [
      "+--------+------+-----+-------+--------+-----+-------+\n",
      "|Clientes|regiao|idade|Comprou|Unidades|total|apelido|\n",
      "+--------+------+-----+-------+--------+-----+-------+\n",
      "|   Karen|    AM|   61|     50|      20| 1000|    Kar|\n",
      "|  Olivia|    PE|   48|     50|      20| 1000|    Oli|\n",
      "|   Lucas|    RS|   40|     50|      20| 1000|    Luc|\n",
      "|   Paulo|    SC|   66|     50|      20| 1000|    Pau|\n",
      "| Rafaela|    CE|   44|     50|      20| 1000|    Raf|\n",
      "|  Helena|    MT|   61|     50|      20| 1000|    Hel|\n",
      "| Nicolas|    MT|   45|     50|      20| 1000|    Nic|\n",
      "|   Lucas|    MT|   36|     50|      20| 1000|    Luc|\n",
      "| Tatiane|    MS|   54|     50|      20| 1000|    Tat|\n",
      "|   Paulo|    SP|   66|     50|      20| 1000|    Pau|\n",
      "| Eduardo|    AM|   62|     50|      20| 1000|    Edu|\n",
      "| Daniela|    RJ|   39|     50|      20| 1000|    Dan|\n",
      "| Tatiane|    CE|   34|     50|      20| 1000|    Tat|\n",
      "| Tatiane|    MS|   18|     50|      20| 1000|    Tat|\n",
      "| Eduardo|    PR|   47|     50|      20| 1000|    Edu|\n",
      "| Gabriel|    RJ|   70|     50|      20| 1000|    Gab|\n",
      "|   Lucas|    MG|   52|     50|      20| 1000|    Luc|\n",
      "|  Olivia|    GO|   63|     50|      20| 1000|    Oli|\n",
      "|   Bruno|    GO|   37|     50|      20| 1000|    Bru|\n",
      "|  Helena|    PA|   64|     50|      20| 1000|    Hel|\n",
      "+--------+------+-----+-------+--------+-----+-------+\n",
      "only showing top 20 rows\n"
     ]
    }
   ],
   "source": [
    "df.withColumn('apelido', substring('Clientes', 1, 3)).show()"
   ]
  },
  {
   "cell_type": "markdown",
   "id": "9f997979",
   "metadata": {},
   "source": [
    "Criando coluna  Concat/Concat_ws"
   ]
  },
  {
   "cell_type": "code",
   "execution_count": 51,
   "id": "61a6beff",
   "metadata": {},
   "outputs": [
    {
     "name": "stdout",
     "output_type": "stream",
     "text": [
      "+--------+------+-----+-------+--------+-----+---------+\n",
      "|Clientes|regiao|idade|Comprou|Unidades|total|   Concat|\n",
      "+--------+------+-----+-------+--------+-----+---------+\n",
      "|   Karen|    AM|   61|     50|      20| 1000|  Karen61|\n",
      "|  Olivia|    PE|   48|     50|      20| 1000| Olivia48|\n",
      "|   Lucas|    RS|   40|     50|      20| 1000|  Lucas40|\n",
      "|   Paulo|    SC|   66|     50|      20| 1000|  Paulo66|\n",
      "| Rafaela|    CE|   44|     50|      20| 1000|Rafaela44|\n",
      "|  Helena|    MT|   61|     50|      20| 1000| Helena61|\n",
      "| Nicolas|    MT|   45|     50|      20| 1000|Nicolas45|\n",
      "|   Lucas|    MT|   36|     50|      20| 1000|  Lucas36|\n",
      "| Tatiane|    MS|   54|     50|      20| 1000|Tatiane54|\n",
      "|   Paulo|    SP|   66|     50|      20| 1000|  Paulo66|\n",
      "| Eduardo|    AM|   62|     50|      20| 1000|Eduardo62|\n",
      "| Daniela|    RJ|   39|     50|      20| 1000|Daniela39|\n",
      "| Tatiane|    CE|   34|     50|      20| 1000|Tatiane34|\n",
      "| Tatiane|    MS|   18|     50|      20| 1000|Tatiane18|\n",
      "| Eduardo|    PR|   47|     50|      20| 1000|Eduardo47|\n",
      "| Gabriel|    RJ|   70|     50|      20| 1000|Gabriel70|\n",
      "|   Lucas|    MG|   52|     50|      20| 1000|  Lucas52|\n",
      "|  Olivia|    GO|   63|     50|      20| 1000| Olivia63|\n",
      "|   Bruno|    GO|   37|     50|      20| 1000|  Bruno37|\n",
      "|  Helena|    PA|   64|     50|      20| 1000| Helena64|\n",
      "+--------+------+-----+-------+--------+-----+---------+\n",
      "only showing top 20 rows\n"
     ]
    }
   ],
   "source": [
    "df.withColumn('Concat',concat('Clientes', col('idade'))).show()"
   ]
  },
  {
   "cell_type": "code",
   "execution_count": 52,
   "id": "db8022b5",
   "metadata": {},
   "outputs": [
    {
     "name": "stdout",
     "output_type": "stream",
     "text": [
      "+--------+------+-----+-------+--------+-----+------------+\n",
      "|Clientes|regiao|idade|Comprou|Unidades|total|   Concat_ws|\n",
      "+--------+------+-----+-------+--------+-----+------------+\n",
      "|   Karen|    AM|   61|     50|      20| 1000|  Karen - 61|\n",
      "|  Olivia|    PE|   48|     50|      20| 1000| Olivia - 48|\n",
      "|   Lucas|    RS|   40|     50|      20| 1000|  Lucas - 40|\n",
      "|   Paulo|    SC|   66|     50|      20| 1000|  Paulo - 66|\n",
      "| Rafaela|    CE|   44|     50|      20| 1000|Rafaela - 44|\n",
      "|  Helena|    MT|   61|     50|      20| 1000| Helena - 61|\n",
      "| Nicolas|    MT|   45|     50|      20| 1000|Nicolas - 45|\n",
      "|   Lucas|    MT|   36|     50|      20| 1000|  Lucas - 36|\n",
      "| Tatiane|    MS|   54|     50|      20| 1000|Tatiane - 54|\n",
      "|   Paulo|    SP|   66|     50|      20| 1000|  Paulo - 66|\n",
      "| Eduardo|    AM|   62|     50|      20| 1000|Eduardo - 62|\n",
      "| Daniela|    RJ|   39|     50|      20| 1000|Daniela - 39|\n",
      "| Tatiane|    CE|   34|     50|      20| 1000|Tatiane - 34|\n",
      "| Tatiane|    MS|   18|     50|      20| 1000|Tatiane - 18|\n",
      "| Eduardo|    PR|   47|     50|      20| 1000|Eduardo - 47|\n",
      "| Gabriel|    RJ|   70|     50|      20| 1000|Gabriel - 70|\n",
      "|   Lucas|    MG|   52|     50|      20| 1000|  Lucas - 52|\n",
      "|  Olivia|    GO|   63|     50|      20| 1000| Olivia - 63|\n",
      "|   Bruno|    GO|   37|     50|      20| 1000|  Bruno - 37|\n",
      "|  Helena|    PA|   64|     50|      20| 1000| Helena - 64|\n",
      "+--------+------+-----+-------+--------+-----+------------+\n",
      "only showing top 20 rows\n"
     ]
    }
   ],
   "source": [
    "df.withColumn('Concat_ws',concat_ws(' - ','Clientes', 'idade')).show()"
   ]
  },
  {
   "cell_type": "markdown",
   "id": "2922257f",
   "metadata": {},
   "source": [
    "Trocar o tipo"
   ]
  },
  {
   "cell_type": "code",
   "execution_count": 53,
   "id": "8a483869",
   "metadata": {},
   "outputs": [],
   "source": [
    "df = df.withColumn('Data', lit('2025-10-07'))"
   ]
  },
  {
   "cell_type": "code",
   "execution_count": 54,
   "id": "589735d5",
   "metadata": {},
   "outputs": [
    {
     "name": "stdout",
     "output_type": "stream",
     "text": [
      "root\n",
      " |-- Clientes: string (nullable = true)\n",
      " |-- regiao: string (nullable = true)\n",
      " |-- idade: integer (nullable = true)\n",
      " |-- Comprou: integer (nullable = false)\n",
      " |-- Unidades: integer (nullable = false)\n",
      " |-- total: integer (nullable = false)\n",
      " |-- Data: string (nullable = false)\n",
      "\n"
     ]
    }
   ],
   "source": [
    "df.printSchema()"
   ]
  },
  {
   "cell_type": "code",
   "execution_count": 55,
   "id": "f11dfedc",
   "metadata": {},
   "outputs": [],
   "source": [
    "df = df.withColumn('Data',col('Data').cast(DateType()))"
   ]
  },
  {
   "cell_type": "code",
   "execution_count": 56,
   "id": "e1f40419",
   "metadata": {},
   "outputs": [
    {
     "name": "stdout",
     "output_type": "stream",
     "text": [
      "+--------+------+-----+-------+--------+-----+----------+\n",
      "|Clientes|regiao|idade|Comprou|Unidades|total|      Data|\n",
      "+--------+------+-----+-------+--------+-----+----------+\n",
      "|   Karen|    AM|   61|     50|      20| 1000|2025-10-07|\n",
      "|  Olivia|    PE|   48|     50|      20| 1000|2025-10-07|\n",
      "|   Lucas|    RS|   40|     50|      20| 1000|2025-10-07|\n",
      "|   Paulo|    SC|   66|     50|      20| 1000|2025-10-07|\n",
      "| Rafaela|    CE|   44|     50|      20| 1000|2025-10-07|\n",
      "|  Helena|    MT|   61|     50|      20| 1000|2025-10-07|\n",
      "| Nicolas|    MT|   45|     50|      20| 1000|2025-10-07|\n",
      "|   Lucas|    MT|   36|     50|      20| 1000|2025-10-07|\n",
      "| Tatiane|    MS|   54|     50|      20| 1000|2025-10-07|\n",
      "|   Paulo|    SP|   66|     50|      20| 1000|2025-10-07|\n",
      "| Eduardo|    AM|   62|     50|      20| 1000|2025-10-07|\n",
      "| Daniela|    RJ|   39|     50|      20| 1000|2025-10-07|\n",
      "| Tatiane|    CE|   34|     50|      20| 1000|2025-10-07|\n",
      "| Tatiane|    MS|   18|     50|      20| 1000|2025-10-07|\n",
      "| Eduardo|    PR|   47|     50|      20| 1000|2025-10-07|\n",
      "| Gabriel|    RJ|   70|     50|      20| 1000|2025-10-07|\n",
      "|   Lucas|    MG|   52|     50|      20| 1000|2025-10-07|\n",
      "|  Olivia|    GO|   63|     50|      20| 1000|2025-10-07|\n",
      "|   Bruno|    GO|   37|     50|      20| 1000|2025-10-07|\n",
      "|  Helena|    PA|   64|     50|      20| 1000|2025-10-07|\n",
      "+--------+------+-----+-------+--------+-----+----------+\n",
      "only showing top 20 rows\n",
      "root\n",
      " |-- Clientes: string (nullable = true)\n",
      " |-- regiao: string (nullable = true)\n",
      " |-- idade: integer (nullable = true)\n",
      " |-- Comprou: integer (nullable = false)\n",
      " |-- Unidades: integer (nullable = false)\n",
      " |-- total: integer (nullable = false)\n",
      " |-- Data: date (nullable = true)\n",
      "\n"
     ]
    }
   ],
   "source": [
    "df.show()\n",
    "df.printSchema()"
   ]
  },
  {
   "cell_type": "code",
   "execution_count": 57,
   "id": "a081eed6",
   "metadata": {},
   "outputs": [
    {
     "name": "stdout",
     "output_type": "stream",
     "text": [
      "+--------+------+-----+-------+--------+-----+----------+----------+\n",
      "|Clientes|regiao|idade|Comprou|Unidades|total|      Data|    Anomes|\n",
      "+--------+------+-----+-------+--------+-----+----------+----------+\n",
      "|   Karen|    AM|   61|     50|      20| 1000|2025-10-07|2025-10-07|\n",
      "|  Olivia|    PE|   48|     50|      20| 1000|2025-10-07|2025-10-07|\n",
      "|   Lucas|    RS|   40|     50|      20| 1000|2025-10-07|2025-10-07|\n",
      "|   Paulo|    SC|   66|     50|      20| 1000|2025-10-07|2025-10-07|\n",
      "| Rafaela|    CE|   44|     50|      20| 1000|2025-10-07|2025-10-07|\n",
      "|  Helena|    MT|   61|     50|      20| 1000|2025-10-07|2025-10-07|\n",
      "| Nicolas|    MT|   45|     50|      20| 1000|2025-10-07|2025-10-07|\n",
      "|   Lucas|    MT|   36|     50|      20| 1000|2025-10-07|2025-10-07|\n",
      "| Tatiane|    MS|   54|     50|      20| 1000|2025-10-07|2025-10-07|\n",
      "|   Paulo|    SP|   66|     50|      20| 1000|2025-10-07|2025-10-07|\n",
      "| Eduardo|    AM|   62|     50|      20| 1000|2025-10-07|2025-10-07|\n",
      "| Daniela|    RJ|   39|     50|      20| 1000|2025-10-07|2025-10-07|\n",
      "| Tatiane|    CE|   34|     50|      20| 1000|2025-10-07|2025-10-07|\n",
      "| Tatiane|    MS|   18|     50|      20| 1000|2025-10-07|2025-10-07|\n",
      "| Eduardo|    PR|   47|     50|      20| 1000|2025-10-07|2025-10-07|\n",
      "| Gabriel|    RJ|   70|     50|      20| 1000|2025-10-07|2025-10-07|\n",
      "|   Lucas|    MG|   52|     50|      20| 1000|2025-10-07|2025-10-07|\n",
      "|  Olivia|    GO|   63|     50|      20| 1000|2025-10-07|2025-10-07|\n",
      "|   Bruno|    GO|   37|     50|      20| 1000|2025-10-07|2025-10-07|\n",
      "|  Helena|    PA|   64|     50|      20| 1000|2025-10-07|2025-10-07|\n",
      "+--------+------+-----+-------+--------+-----+----------+----------+\n",
      "only showing top 20 rows\n",
      "+--------+------+-----+-------+--------+-----+----------+\n",
      "|Clientes|regiao|idade|Comprou|Unidades|total|      Data|\n",
      "+--------+------+-----+-------+--------+-----+----------+\n",
      "|   Karen|    AM|   61|     50|      20| 1000|2025-10-07|\n",
      "|  Olivia|    PE|   48|     50|      20| 1000|2025-10-07|\n",
      "|   Lucas|    RS|   40|     50|      20| 1000|2025-10-07|\n",
      "|   Paulo|    SC|   66|     50|      20| 1000|2025-10-07|\n",
      "| Rafaela|    CE|   44|     50|      20| 1000|2025-10-07|\n",
      "|  Helena|    MT|   61|     50|      20| 1000|2025-10-07|\n",
      "| Nicolas|    MT|   45|     50|      20| 1000|2025-10-07|\n",
      "|   Lucas|    MT|   36|     50|      20| 1000|2025-10-07|\n",
      "| Tatiane|    MS|   54|     50|      20| 1000|2025-10-07|\n",
      "|   Paulo|    SP|   66|     50|      20| 1000|2025-10-07|\n",
      "| Eduardo|    AM|   62|     50|      20| 1000|2025-10-07|\n",
      "| Daniela|    RJ|   39|     50|      20| 1000|2025-10-07|\n",
      "| Tatiane|    CE|   34|     50|      20| 1000|2025-10-07|\n",
      "| Tatiane|    MS|   18|     50|      20| 1000|2025-10-07|\n",
      "| Eduardo|    PR|   47|     50|      20| 1000|2025-10-07|\n",
      "| Gabriel|    RJ|   70|     50|      20| 1000|2025-10-07|\n",
      "|   Lucas|    MG|   52|     50|      20| 1000|2025-10-07|\n",
      "|  Olivia|    GO|   63|     50|      20| 1000|2025-10-07|\n",
      "|   Bruno|    GO|   37|     50|      20| 1000|2025-10-07|\n",
      "|  Helena|    PA|   64|     50|      20| 1000|2025-10-07|\n",
      "+--------+------+-----+-------+--------+-----+----------+\n",
      "only showing top 20 rows\n"
     ]
    }
   ],
   "source": [
    "df.withColumn('Anomes',to_date(col('Data'),'yyyymm')).show()\n",
    "df.show()"
   ]
  },
  {
   "cell_type": "markdown",
   "id": "9996a6a0",
   "metadata": {},
   "source": []
  },
  {
   "cell_type": "code",
   "execution_count": 58,
   "id": "593affd3",
   "metadata": {},
   "outputs": [
    {
     "name": "stdout",
     "output_type": "stream",
     "text": [
      "+--------+------+-----+-------+--------+-----+----------+----------+\n",
      "|Clientes|regiao|idade|Comprou|Unidades|total|      Data|  Data_err|\n",
      "+--------+------+-----+-------+--------+-----+----------+----------+\n",
      "|   Karen|    AM|   61|     50|      20| 1000|2025-10-07|08.10.2025|\n",
      "|  Olivia|    PE|   48|     50|      20| 1000|2025-10-07|08.10.2025|\n",
      "|   Lucas|    RS|   40|     50|      20| 1000|2025-10-07|08.10.2025|\n",
      "|   Paulo|    SC|   66|     50|      20| 1000|2025-10-07|08.10.2025|\n",
      "| Rafaela|    CE|   44|     50|      20| 1000|2025-10-07|08.10.2025|\n",
      "|  Helena|    MT|   61|     50|      20| 1000|2025-10-07|08.10.2025|\n",
      "| Nicolas|    MT|   45|     50|      20| 1000|2025-10-07|08.10.2025|\n",
      "|   Lucas|    MT|   36|     50|      20| 1000|2025-10-07|08.10.2025|\n",
      "| Tatiane|    MS|   54|     50|      20| 1000|2025-10-07|08.10.2025|\n",
      "|   Paulo|    SP|   66|     50|      20| 1000|2025-10-07|08.10.2025|\n",
      "| Eduardo|    AM|   62|     50|      20| 1000|2025-10-07|08.10.2025|\n",
      "| Daniela|    RJ|   39|     50|      20| 1000|2025-10-07|08.10.2025|\n",
      "| Tatiane|    CE|   34|     50|      20| 1000|2025-10-07|08.10.2025|\n",
      "| Tatiane|    MS|   18|     50|      20| 1000|2025-10-07|08.10.2025|\n",
      "| Eduardo|    PR|   47|     50|      20| 1000|2025-10-07|08.10.2025|\n",
      "| Gabriel|    RJ|   70|     50|      20| 1000|2025-10-07|08.10.2025|\n",
      "|   Lucas|    MG|   52|     50|      20| 1000|2025-10-07|08.10.2025|\n",
      "|  Olivia|    GO|   63|     50|      20| 1000|2025-10-07|08.10.2025|\n",
      "|   Bruno|    GO|   37|     50|      20| 1000|2025-10-07|08.10.2025|\n",
      "|  Helena|    PA|   64|     50|      20| 1000|2025-10-07|08.10.2025|\n",
      "+--------+------+-----+-------+--------+-----+----------+----------+\n",
      "only showing top 20 rows\n"
     ]
    }
   ],
   "source": [
    "df = df.withColumn('Data_err', lit('08.10.2025'))\n",
    "df.show()"
   ]
  },
  {
   "cell_type": "code",
   "execution_count": 59,
   "id": "c43aefde",
   "metadata": {},
   "outputs": [],
   "source": [
    "dia = udf(lambda data: data.split('.')[0])"
   ]
  },
  {
   "cell_type": "code",
   "execution_count": 60,
   "id": "15961930",
   "metadata": {},
   "outputs": [],
   "source": [
    "mes = udf(lambda data: data.split('.')[1])"
   ]
  },
  {
   "cell_type": "code",
   "execution_count": 61,
   "id": "99985fba",
   "metadata": {},
   "outputs": [],
   "source": [
    "ano = udf(lambda data: data.split('.')[2])"
   ]
  },
  {
   "cell_type": "code",
   "execution_count": 62,
   "id": "cdbf26db",
   "metadata": {},
   "outputs": [
    {
     "name": "stdout",
     "output_type": "stream",
     "text": [
      "+--------+------+-----+-------+--------+-----+----------+----------+---+---+----+\n",
      "|Clientes|regiao|idade|Comprou|Unidades|total|      Data|  Data_err|Dia|mes| ano|\n",
      "+--------+------+-----+-------+--------+-----+----------+----------+---+---+----+\n",
      "|   Karen|    AM|   61|     50|      20| 1000|2025-10-07|08.10.2025| 08| 10|2025|\n",
      "|  Olivia|    PE|   48|     50|      20| 1000|2025-10-07|08.10.2025| 08| 10|2025|\n",
      "|   Lucas|    RS|   40|     50|      20| 1000|2025-10-07|08.10.2025| 08| 10|2025|\n",
      "|   Paulo|    SC|   66|     50|      20| 1000|2025-10-07|08.10.2025| 08| 10|2025|\n",
      "| Rafaela|    CE|   44|     50|      20| 1000|2025-10-07|08.10.2025| 08| 10|2025|\n",
      "|  Helena|    MT|   61|     50|      20| 1000|2025-10-07|08.10.2025| 08| 10|2025|\n",
      "| Nicolas|    MT|   45|     50|      20| 1000|2025-10-07|08.10.2025| 08| 10|2025|\n",
      "|   Lucas|    MT|   36|     50|      20| 1000|2025-10-07|08.10.2025| 08| 10|2025|\n",
      "| Tatiane|    MS|   54|     50|      20| 1000|2025-10-07|08.10.2025| 08| 10|2025|\n",
      "|   Paulo|    SP|   66|     50|      20| 1000|2025-10-07|08.10.2025| 08| 10|2025|\n",
      "| Eduardo|    AM|   62|     50|      20| 1000|2025-10-07|08.10.2025| 08| 10|2025|\n",
      "| Daniela|    RJ|   39|     50|      20| 1000|2025-10-07|08.10.2025| 08| 10|2025|\n",
      "| Tatiane|    CE|   34|     50|      20| 1000|2025-10-07|08.10.2025| 08| 10|2025|\n",
      "| Tatiane|    MS|   18|     50|      20| 1000|2025-10-07|08.10.2025| 08| 10|2025|\n",
      "| Eduardo|    PR|   47|     50|      20| 1000|2025-10-07|08.10.2025| 08| 10|2025|\n",
      "| Gabriel|    RJ|   70|     50|      20| 1000|2025-10-07|08.10.2025| 08| 10|2025|\n",
      "|   Lucas|    MG|   52|     50|      20| 1000|2025-10-07|08.10.2025| 08| 10|2025|\n",
      "|  Olivia|    GO|   63|     50|      20| 1000|2025-10-07|08.10.2025| 08| 10|2025|\n",
      "|   Bruno|    GO|   37|     50|      20| 1000|2025-10-07|08.10.2025| 08| 10|2025|\n",
      "|  Helena|    PA|   64|     50|      20| 1000|2025-10-07|08.10.2025| 08| 10|2025|\n",
      "+--------+------+-----+-------+--------+-----+----------+----------+---+---+----+\n",
      "only showing top 20 rows\n"
     ]
    }
   ],
   "source": [
    "df = df.withColumn('Dia',dia('Data_err'))\n",
    "df = df.withColumn('mes',mes('Data_err'))\n",
    "df = df.withColumn('ano',ano('Data_err'))\n",
    "df.show()"
   ]
  },
  {
   "cell_type": "code",
   "execution_count": 63,
   "id": "f37875c9",
   "metadata": {},
   "outputs": [],
   "source": [
    "df = df.withColumn('Data_err', concat_ws('-', 'ano','mes','dia'))"
   ]
  },
  {
   "cell_type": "code",
   "execution_count": 64,
   "id": "caf8be46",
   "metadata": {},
   "outputs": [
    {
     "name": "stdout",
     "output_type": "stream",
     "text": [
      "+--------+------+-----+-------+--------+-----+----------+----------+---+---+----+\n",
      "|Clientes|regiao|idade|Comprou|Unidades|total|      Data|  Data_err|Dia|mes| ano|\n",
      "+--------+------+-----+-------+--------+-----+----------+----------+---+---+----+\n",
      "|   Karen|    AM|   61|     50|      20| 1000|2025-10-07|2025-10-08| 08| 10|2025|\n",
      "|  Olivia|    PE|   48|     50|      20| 1000|2025-10-07|2025-10-08| 08| 10|2025|\n",
      "|   Lucas|    RS|   40|     50|      20| 1000|2025-10-07|2025-10-08| 08| 10|2025|\n",
      "|   Paulo|    SC|   66|     50|      20| 1000|2025-10-07|2025-10-08| 08| 10|2025|\n",
      "| Rafaela|    CE|   44|     50|      20| 1000|2025-10-07|2025-10-08| 08| 10|2025|\n",
      "|  Helena|    MT|   61|     50|      20| 1000|2025-10-07|2025-10-08| 08| 10|2025|\n",
      "| Nicolas|    MT|   45|     50|      20| 1000|2025-10-07|2025-10-08| 08| 10|2025|\n",
      "|   Lucas|    MT|   36|     50|      20| 1000|2025-10-07|2025-10-08| 08| 10|2025|\n",
      "| Tatiane|    MS|   54|     50|      20| 1000|2025-10-07|2025-10-08| 08| 10|2025|\n",
      "|   Paulo|    SP|   66|     50|      20| 1000|2025-10-07|2025-10-08| 08| 10|2025|\n",
      "| Eduardo|    AM|   62|     50|      20| 1000|2025-10-07|2025-10-08| 08| 10|2025|\n",
      "| Daniela|    RJ|   39|     50|      20| 1000|2025-10-07|2025-10-08| 08| 10|2025|\n",
      "| Tatiane|    CE|   34|     50|      20| 1000|2025-10-07|2025-10-08| 08| 10|2025|\n",
      "| Tatiane|    MS|   18|     50|      20| 1000|2025-10-07|2025-10-08| 08| 10|2025|\n",
      "| Eduardo|    PR|   47|     50|      20| 1000|2025-10-07|2025-10-08| 08| 10|2025|\n",
      "| Gabriel|    RJ|   70|     50|      20| 1000|2025-10-07|2025-10-08| 08| 10|2025|\n",
      "|   Lucas|    MG|   52|     50|      20| 1000|2025-10-07|2025-10-08| 08| 10|2025|\n",
      "|  Olivia|    GO|   63|     50|      20| 1000|2025-10-07|2025-10-08| 08| 10|2025|\n",
      "|   Bruno|    GO|   37|     50|      20| 1000|2025-10-07|2025-10-08| 08| 10|2025|\n",
      "|  Helena|    PA|   64|     50|      20| 1000|2025-10-07|2025-10-08| 08| 10|2025|\n",
      "+--------+------+-----+-------+--------+-----+----------+----------+---+---+----+\n",
      "only showing top 20 rows\n"
     ]
    }
   ],
   "source": [
    "df.show()"
   ]
  }
 ],
 "metadata": {
  "kernelspec": {
   "display_name": "Python 3",
   "language": "python",
   "name": "python3"
  },
  "language_info": {
   "codemirror_mode": {
    "name": "ipython",
    "version": 3
   },
   "file_extension": ".py",
   "mimetype": "text/x-python",
   "name": "python",
   "nbconvert_exporter": "python",
   "pygments_lexer": "ipython3",
   "version": "3.10.11"
  }
 },
 "nbformat": 4,
 "nbformat_minor": 5
}
