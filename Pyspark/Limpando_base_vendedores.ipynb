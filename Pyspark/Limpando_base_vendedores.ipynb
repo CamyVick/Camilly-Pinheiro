{
 "cells": [
  {
   "cell_type": "code",
   "execution_count": 31,
   "id": "86f242eb",
   "metadata": {},
   "outputs": [],
   "source": [
    "import os \n",
    "import sys \n",
    "\n",
    "os.environ['PYSPARK_PYTHON'] = sys.executable\n",
    "os.environ['PYSPARK_DRIVER_PYTHON'] = sys.executable\n",
    "\n",
    "os.environ[\"JAVA_HOME\"] = \"C:\\\\java\"\n",
    "os.environ[\"HADOOP_HOME\"] = \"C:\\\\hadoop\"\n",
    "os.environ[\"PATH\"] += os.pathsep + os.path.join(os.environ[\"HADOOP_HOME\"], \"bin\")"
   ]
  },
  {
   "cell_type": "code",
   "execution_count": 32,
   "id": "23cf12b0",
   "metadata": {},
   "outputs": [],
   "source": [
    "from pyspark.sql import SparkSession\n",
    "from pyspark.sql.functions import *\n",
    "from pyspark.sql.types import *"
   ]
  },
  {
   "cell_type": "code",
   "execution_count": 33,
   "id": "55b3fcaf",
   "metadata": {},
   "outputs": [],
   "source": [
    "spark = (\n",
    "    SparkSession.builder\n",
    "    .appName(\"Base_Vendedores\")\n",
    "    .master(\"local[*]\")\n",
    "    .config(\"spark.sql.shuffle.partitions\", \"4\")\n",
    "    .getOrCreate()\n",
    ")"
   ]
  },
  {
   "cell_type": "code",
   "execution_count": 34,
   "id": "06be0ebd",
   "metadata": {},
   "outputs": [],
   "source": [
    "df = spark.read.csv('Arquivos/base_vendedores.csv', header='True', inferSchema='True', sep=';')"
   ]
  },
  {
   "cell_type": "code",
   "execution_count": 35,
   "id": "e9d202d1",
   "metadata": {},
   "outputs": [
    {
     "name": "stdout",
     "output_type": "stream",
     "text": [
      "+----------+----------+--------------------+--------------+--------------+---+---------+----------+-----------+----------+------------+---------+-----------+----------------------+------------------+--------------------+-------------------+-------------+\n",
      "|  ID_Venda|Data_Venda|            Vendedor|           CPF|        Cidade| UF|  Produto| Categoria|Canal_Venda|Qtd_Vendas|Valor_Vendas|  Salario|Meta_Mensal|Percentual_Cumprimento|           Cliente|       Email_Cliente|           Telefone|Data_Cadastro|\n",
      "+----------+----------+--------------------+--------------+--------------+---+---------+----------+-----------+----------+------------+---------+-----------+----------------------+------------------+--------------------+-------------------+-------------+\n",
      "|VENDA-5262|2022-11-11|           Igor Leão|684.025.197-76|     fortaleza| ce|       TV|    Roupas|   WhatsApp|      26.0|    31194.95|  4528.22|   70564.92|                   0.6|  Sra. Maya Borges|jesusluisa@exampl...|    (021) 7932-0945|   2021-05-10|\n",
      "|   vnd6370|2017-11-02|Sr. Luiz Fernando...|   51420736817|      Curitiba| PR|       TV|    Móveis|   WHATSAPP|      NULL|   R$6406.28|R$7281.15|   79258.38|                104.7%|   Dr. Renan Sales|montenegroantonel...|    (071) 3733 2421|   2024-03-04|\n",
      "|VENDA-8482|1987-03-20|       Cecília Sales|370.549.281-05|        Recife| SP|BICICLETA|    MÓVEIS|        app|      NULL|   R$2798.28|  5464.22|R$ 56425.78|                  0.64|       Lunna Pinto|maria-luizarocha@...|+55 (051) 0459-4452|         NULL|\n",
      "|VENDA-4681|1973-06-19|   Allana Nascimento|   18560472371|     Fortaleza| CE|Bicicleta|Eletrônico|        APP|      45.0|     2586.04| R$5954.1|R$ 34167.45|                  1.16|    Rafael da Cruz|montenegroana-cec...|    (041) 1703-7693|   2021-11-30|\n",
      "|      6378|2022-12-19|      Daniel Barbosa|024.713.658-17|rio de janeiro| PE|   Boneca|AUTOMOTIVO|   Telefone|       4.0|   R$5275.09|  2325.27|   20431.01|                 91.4%|Srta. Lara Andrade|casa-grandejose@e...|    (021) 6380 7596|   2024-06-28|\n",
      "|VENDA-5357|1983-12-30|Anthony Gabriel Dias|245.631.809-98|     Fortaleza| SP|   Boneca|   esporte|   WhatsApp|      NULL|     4284.04|   5343.9|R$ 47888.55|                 60.6%|    Maysa Oliveira|cecilia47@example...|    (051) 6978 5559|   2024-01-17|\n",
      "|VENDA-2217|1975-11-12|   Benjamin da Cunha|641.590.278-49|     Fortaleza| RJ|Bicicleta|   Esporte|   WhatsApp|      NULL|  R$19674.92|  2005.88|       NULL|                   0.9|              DAVI|silvavitor-hugo@e...|         6716190546|         NULL|\n",
      "|   vnd7015|2023-04-19|      Dr. Igor Moura|156.837.042-35|Belo Horizonte| PE|  Perfume|    beleza|   Telefone|       4.0|  R$36878.14|R$4917.91|       NULL|                 75.7%| Theo da Conceição|das-nevesvalentin...|       81 0619-1768|   2021-04-18|\n",
      "|      9598|16/05/2025|     Dr. Cauê Moraes|   97365108240|Rio de Janeiro| RJ| Notebook|    Móveis|   WhatsApp|      NULL|    31338.13|   7787.0|R$ 62366.92|                  0.62| Davi Miguel Ramos|joao-guilherme90@...|         7381193138|   2021-10-17|\n",
      "|      4403|2024-08-06|Dra. Vitória Ribeiro|930.658.427-00|      curitiba| BA|  Relógio|    Móveis|       Loja|      10.0|    37724.17|R$6245.05|       NULL|                  1.14|   Dr. Rael Fogaça|macedoemilly@@exa...|         3204924134|         NULL|\n",
      "+----------+----------+--------------------+--------------+--------------+---+---------+----------+-----------+----------+------------+---------+-----------+----------------------+------------------+--------------------+-------------------+-------------+\n",
      "only showing top 10 rows\n"
     ]
    }
   ],
   "source": [
    "df.show(10)"
   ]
  },
  {
   "cell_type": "code",
   "execution_count": 36,
   "id": "465e590d",
   "metadata": {},
   "outputs": [
    {
     "name": "stdout",
     "output_type": "stream",
     "text": [
      "+--------+----------+--------------------+--------------+--------------+---+---------+----------+-----------+----------+------------+---------+-----------+----------------------+--------------------+--------------------+-------------------+-------------+\n",
      "|ID_Venda|Data_Venda|            Vendedor|           CPF|        Cidade| UF|  Produto| Categoria|Canal_Venda|Qtd_Vendas|Valor_Vendas|  Salario|Meta_Mensal|Percentual_Cumprimento|             Cliente|       Email_Cliente|           Telefone|Data_Cadastro|\n",
      "+--------+----------+--------------------+--------------+--------------+---+---------+----------+-----------+----------+------------+---------+-----------+----------------------+--------------------+--------------------+-------------------+-------------+\n",
      "| vnd5262|2022-11-11|           Igor Leão|684.025.197-76|     fortaleza| ce|       TV|    Roupas|   WhatsApp|      26.0|    31194.95|  4528.22|   70564.92|                   0.6|    Sra. Maya Borges|jesusluisa@exampl...|    (021) 7932-0945|   2021-05-10|\n",
      "| vnd6370|2017-11-02|Sr. Luiz Fernando...|   51420736817|      Curitiba| PR|       TV|    Móveis|   WHATSAPP|      NULL|   R$6406.28|R$7281.15|   79258.38|                104.7%|     Dr. Renan Sales|montenegroantonel...|    (071) 3733 2421|   2024-03-04|\n",
      "| vnd8482|1987-03-20|       Cecília Sales|370.549.281-05|        Recife| SP|BICICLETA|    MÓVEIS|        app|      NULL|   R$2798.28|  5464.22|R$ 56425.78|                  0.64|         Lunna Pinto|maria-luizarocha@...|+55 (051) 0459-4452|         NULL|\n",
      "| vnd4681|1973-06-19|   Allana Nascimento|   18560472371|     Fortaleza| CE|Bicicleta|Eletrônico|        APP|      45.0|     2586.04| R$5954.1|R$ 34167.45|                  1.16|      Rafael da Cruz|montenegroana-cec...|    (041) 1703-7693|   2021-11-30|\n",
      "|    6378|2022-12-19|      Daniel Barbosa|024.713.658-17|rio de janeiro| PE|   Boneca|AUTOMOTIVO|   Telefone|       4.0|   R$5275.09|  2325.27|   20431.01|                 91.4%|  Srta. Lara Andrade|casa-grandejose@e...|    (021) 6380 7596|   2024-06-28|\n",
      "| vnd5357|1983-12-30|Anthony Gabriel Dias|245.631.809-98|     Fortaleza| SP|   Boneca|   esporte|   WhatsApp|      NULL|     4284.04|   5343.9|R$ 47888.55|                 60.6%|      Maysa Oliveira|cecilia47@example...|    (051) 6978 5559|   2024-01-17|\n",
      "| vnd2217|1975-11-12|   Benjamin da Cunha|641.590.278-49|     Fortaleza| RJ|Bicicleta|   Esporte|   WhatsApp|      NULL|  R$19674.92|  2005.88|       NULL|                   0.9|                DAVI|silvavitor-hugo@e...|         6716190546|         NULL|\n",
      "| vnd7015|2023-04-19|      Dr. Igor Moura|156.837.042-35|Belo Horizonte| PE|  Perfume|    beleza|   Telefone|       4.0|  R$36878.14|R$4917.91|       NULL|                 75.7%|   Theo da Conceição|das-nevesvalentin...|       81 0619-1768|   2021-04-18|\n",
      "|    9598|16/05/2025|     Dr. Cauê Moraes|   97365108240|Rio de Janeiro| RJ| Notebook|    Móveis|   WhatsApp|      NULL|    31338.13|   7787.0|R$ 62366.92|                  0.62|   Davi Miguel Ramos|joao-guilherme90@...|         7381193138|   2021-10-17|\n",
      "|    4403|2024-08-06|Dra. Vitória Ribeiro|930.658.427-00|      curitiba| BA|  Relógio|    Móveis|       Loja|      10.0|    37724.17|R$6245.05|       NULL|                  1.14|     Dr. Rael Fogaça|macedoemilly@@exa...|         3204924134|         NULL|\n",
      "|    2800|24/02/2025|   José Pedro Aragão|724.106.389-96|     Fortaleza| pe|  Perfume|Automotivo|       loja|      32.0|  R$41385.21|R$3758.17|       NULL|                  0.94|                 ZOE| joana58@example.org|    (071) 6803-0110|         NULL|\n",
      "| vnd6778|2025-02-15|                NULL|405.768.291-02|        Recife| DF|  Perfume|Automotivo|        APP|      NULL|  R$40778.25|R$5386.32|       NULL|                114.0%|           Liam Leão|matteo52@example.com|    (011) 0896 9109|         NULL|\n",
      "| vnd2811|25/04/2025|          Liz Pastor|147.905.386-48|      Salvador| PR|Bicicleta|    Beleza|       Loja|      NULL|  R$24214.26|R$6451.94|R$ 73022.36|                 80.5%|Vitor Gabriel Siq...|fernandoviana@exa...|       21 0204-7195|   2021-04-15|\n",
      "| vnd7003|1999-08-21|        Stella Sales|601.842.395-24|     Fortaleza| ce|Bicicleta|    beleza|   Telefone|      27.0|    12607.94|  3921.59| R$ 50798.7|                  1.02|          Cauã Rocha|moreiramaya@@exam...|   +55 11 3344 8546|   2024-07-11|\n",
      "|    7510|22/08/2025|    Eduarda Siqueira|   48651729049|      Salvador| SP|  Relógio|Brinquedos|     online|      NULL|  R$39844.87|  3245.26|R$ 51532.19|                  0.63|             VICENTE|machadoemanuelly@...|    (031) 0259 0984|         NULL|\n",
      "| vnd1544|2010-12-20|Dra. Ana Júlia Ba...|857.294.306-47|Rio de Janeiro| MG|     SOFÁ|eletrônico|   whatsapp|      NULL|     6373.36|  7861.83|   47217.87|                  0.99|         Luísa Pinto|sophie65@example.org|         2379239563|   2023-08-25|\n",
      "| vnd8879|1990-01-03|  Sr. Pietro da Cruz|853.029.714-88|      Salvador| PE| Notebook|    Beleza|   WhatsApp|      12.0|    15442.14|R$1696.96|R$ 59617.27|                  0.54|       Alexia Garcia|maria-lizda-mota@...|       21 3815 2746|   2021-02-22|\n",
      "| vnd1729|1992-02-24|        Elisa Araújo|951.428.630-89|     São Paulo| MG| Capacete|   Esporte|   Telefone|      NULL|  R$44258.17|  4418.07|R$ 40423.64|                119.4%|    Dr. Otávio Sousa|santosnoah@exampl...|+55 (081) 0006 5596|   2024-02-27|\n",
      "| vnd7696|03/03/2025|Srta. Ana Laura F...|517.940.268-94|      Brasília| MG|    Sofá |Automotivo|   WhatsApp|      NULL|    48090.36|  4781.81|   43159.57|                  1.13|          Dante Rios|diasluan@example.net|         7104889305|   2023-09-04|\n",
      "|    1619|30/01/2025|       Isabel Santos|   09132546815|      Salvador| CE|   Boneca|   Esporte|   Telefone|      NULL|   R$45968.1|R$2284.07|R$ 54820.67|                 57.5%|Dra. Gabrielly No...|  sara95@example.com|      0300-904-6013|   2022-11-16|\n",
      "+--------+----------+--------------------+--------------+--------------+---+---------+----------+-----------+----------+------------+---------+-----------+----------------------+--------------------+--------------------+-------------------+-------------+\n",
      "only showing top 20 rows\n"
     ]
    }
   ],
   "source": [
    "df_corrigido = df.withColumn('ID_Venda', regexp_replace(col('ID_Venda'),'VENDA-','vnd'))\n",
    "df_corrigido.show()"
   ]
  },
  {
   "cell_type": "code",
   "execution_count": 37,
   "id": "3801a0dc",
   "metadata": {},
   "outputs": [
    {
     "name": "stdout",
     "output_type": "stream",
     "text": [
      "+--------+----------+--------------------+--------------+--------------+---+---------+----------+-----------+----------+------------+---------+-----------+----------------------+--------------------+--------------------+-------------------+-------------+\n",
      "|ID_Venda|Data_Venda|            Vendedor|           CPF|        Cidade| UF|  Produto| Categoria|Canal_Venda|Qtd_Vendas|Valor_Vendas|  Salario|Meta_Mensal|Percentual_Cumprimento|             Cliente|       Email_Cliente|           Telefone|Data_Cadastro|\n",
      "+--------+----------+--------------------+--------------+--------------+---+---------+----------+-----------+----------+------------+---------+-----------+----------------------+--------------------+--------------------+-------------------+-------------+\n",
      "| vnd5262|2022-11-11|           Igor Leão|684.025.197-76|     fortaleza| ce|       TV|    Roupas|   WhatsApp|      26.0|    31194.95|  4528.22|   70564.92|                   0.6|    Sra. Maya Borges|jesusluisa@exampl...|    (021) 7932-0945|   2021-05-10|\n",
      "| vnd6370|2017-11-02|Sr. Luiz Fernando...|   51420736817|      Curitiba| PR|       TV|    Móveis|   WHATSAPP|      NULL|   R$6406.28|R$7281.15|   79258.38|                104.7%|     Dr. Renan Sales|montenegroantonel...|    (071) 3733 2421|   2024-03-04|\n",
      "| vnd8482|1987-03-20|       Cecília Sales|370.549.281-05|        Recife| SP|BICICLETA|    MÓVEIS|        app|      NULL|   R$2798.28|  5464.22|R$ 56425.78|                  0.64|         Lunna Pinto|maria-luizarocha@...|+55 (051) 0459-4452|         NULL|\n",
      "| vnd4681|1973-06-19|   Allana Nascimento|   18560472371|     Fortaleza| CE|Bicicleta|Eletrônico|        APP|      45.0|     2586.04| R$5954.1|R$ 34167.45|                  1.16|      Rafael da Cruz|montenegroana-cec...|    (041) 1703-7693|   2021-11-30|\n",
      "| vnd6378|2022-12-19|      Daniel Barbosa|024.713.658-17|rio de janeiro| PE|   Boneca|AUTOMOTIVO|   Telefone|       4.0|   R$5275.09|  2325.27|   20431.01|                 91.4%|  Srta. Lara Andrade|casa-grandejose@e...|    (021) 6380 7596|   2024-06-28|\n",
      "| vnd5357|1983-12-30|Anthony Gabriel Dias|245.631.809-98|     Fortaleza| SP|   Boneca|   esporte|   WhatsApp|      NULL|     4284.04|   5343.9|R$ 47888.55|                 60.6%|      Maysa Oliveira|cecilia47@example...|    (051) 6978 5559|   2024-01-17|\n",
      "| vnd2217|1975-11-12|   Benjamin da Cunha|641.590.278-49|     Fortaleza| RJ|Bicicleta|   Esporte|   WhatsApp|      NULL|  R$19674.92|  2005.88|       NULL|                   0.9|                DAVI|silvavitor-hugo@e...|         6716190546|         NULL|\n",
      "| vnd7015|2023-04-19|      Dr. Igor Moura|156.837.042-35|Belo Horizonte| PE|  Perfume|    beleza|   Telefone|       4.0|  R$36878.14|R$4917.91|       NULL|                 75.7%|   Theo da Conceição|das-nevesvalentin...|       81 0619-1768|   2021-04-18|\n",
      "| vnd9598|16/05/2025|     Dr. Cauê Moraes|   97365108240|Rio de Janeiro| RJ| Notebook|    Móveis|   WhatsApp|      NULL|    31338.13|   7787.0|R$ 62366.92|                  0.62|   Davi Miguel Ramos|joao-guilherme90@...|         7381193138|   2021-10-17|\n",
      "| vnd4403|2024-08-06|Dra. Vitória Ribeiro|930.658.427-00|      curitiba| BA|  Relógio|    Móveis|       Loja|      10.0|    37724.17|R$6245.05|       NULL|                  1.14|     Dr. Rael Fogaça|macedoemilly@@exa...|         3204924134|         NULL|\n",
      "| vnd2800|24/02/2025|   José Pedro Aragão|724.106.389-96|     Fortaleza| pe|  Perfume|Automotivo|       loja|      32.0|  R$41385.21|R$3758.17|       NULL|                  0.94|                 ZOE| joana58@example.org|    (071) 6803-0110|         NULL|\n",
      "| vnd6778|2025-02-15|                NULL|405.768.291-02|        Recife| DF|  Perfume|Automotivo|        APP|      NULL|  R$40778.25|R$5386.32|       NULL|                114.0%|           Liam Leão|matteo52@example.com|    (011) 0896 9109|         NULL|\n",
      "| vnd2811|25/04/2025|          Liz Pastor|147.905.386-48|      Salvador| PR|Bicicleta|    Beleza|       Loja|      NULL|  R$24214.26|R$6451.94|R$ 73022.36|                 80.5%|Vitor Gabriel Siq...|fernandoviana@exa...|       21 0204-7195|   2021-04-15|\n",
      "| vnd7003|1999-08-21|        Stella Sales|601.842.395-24|     Fortaleza| ce|Bicicleta|    beleza|   Telefone|      27.0|    12607.94|  3921.59| R$ 50798.7|                  1.02|          Cauã Rocha|moreiramaya@@exam...|   +55 11 3344 8546|   2024-07-11|\n",
      "| vnd7510|22/08/2025|    Eduarda Siqueira|   48651729049|      Salvador| SP|  Relógio|Brinquedos|     online|      NULL|  R$39844.87|  3245.26|R$ 51532.19|                  0.63|             VICENTE|machadoemanuelly@...|    (031) 0259 0984|         NULL|\n",
      "| vnd1544|2010-12-20|Dra. Ana Júlia Ba...|857.294.306-47|Rio de Janeiro| MG|     SOFÁ|eletrônico|   whatsapp|      NULL|     6373.36|  7861.83|   47217.87|                  0.99|         Luísa Pinto|sophie65@example.org|         2379239563|   2023-08-25|\n",
      "| vnd8879|1990-01-03|  Sr. Pietro da Cruz|853.029.714-88|      Salvador| PE| Notebook|    Beleza|   WhatsApp|      12.0|    15442.14|R$1696.96|R$ 59617.27|                  0.54|       Alexia Garcia|maria-lizda-mota@...|       21 3815 2746|   2021-02-22|\n",
      "| vnd1729|1992-02-24|        Elisa Araújo|951.428.630-89|     São Paulo| MG| Capacete|   Esporte|   Telefone|      NULL|  R$44258.17|  4418.07|R$ 40423.64|                119.4%|    Dr. Otávio Sousa|santosnoah@exampl...|+55 (081) 0006 5596|   2024-02-27|\n",
      "| vnd7696|03/03/2025|Srta. Ana Laura F...|517.940.268-94|      Brasília| MG|    Sofá |Automotivo|   WhatsApp|      NULL|    48090.36|  4781.81|   43159.57|                  1.13|          Dante Rios|diasluan@example.net|         7104889305|   2023-09-04|\n",
      "| vnd1619|30/01/2025|       Isabel Santos|   09132546815|      Salvador| CE|   Boneca|   Esporte|   Telefone|      NULL|   R$45968.1|R$2284.07|R$ 54820.67|                 57.5%|Dra. Gabrielly No...|  sara95@example.com|      0300-904-6013|   2022-11-16|\n",
      "+--------+----------+--------------------+--------------+--------------+---+---------+----------+-----------+----------+------------+---------+-----------+----------------------+--------------------+--------------------+-------------------+-------------+\n",
      "only showing top 20 rows\n"
     ]
    }
   ],
   "source": [
    "df_corrigido = df_corrigido.withColumn('ID_Venda',when(col('ID_Venda').startswith('vnd'),col('ID_Venda'))\n",
    "                             .otherwise(concat(lit('vnd'),col('ID_Venda'))))\n",
    "df_corrigido.show()"
   ]
  },
  {
   "cell_type": "code",
   "execution_count": null,
   "id": "98f43ee9",
   "metadata": {},
   "outputs": [
    {
     "name": "stdout",
     "output_type": "stream",
     "text": [
      "+--------+----------+--------------------+--------------+--------------+---+---------+----------+-----------+----------+------------+---------+-----------+----------------------+--------------------+--------------------+-------------------+-------------+\n",
      "|ID_Venda|Data_Venda|            Vendedor|           CPF|        Cidade| UF|  Produto| Categoria|Canal_Venda|Qtd_Vendas|Valor_Vendas|  Salario|Meta_Mensal|Percentual_Cumprimento|             Cliente|       Email_Cliente|           Telefone|Data_Cadastro|\n",
      "+--------+----------+--------------------+--------------+--------------+---+---------+----------+-----------+----------+------------+---------+-----------+----------------------+--------------------+--------------------+-------------------+-------------+\n",
      "| vnd5262|2022-11-11|           Igor Leão|684.025.197-76|     fortaleza| ce|       TV|    Roupas|   WhatsApp|      26.0|    31194.95|  4528.22|   70564.92|                   0.6|    Sra. Maya Borges|jesusluisa@exampl...|    (021) 7932-0945|   2021-05-10|\n",
      "| vnd6370|2017-11-02|Sr. Luiz Fernando...|   51420736817|      Curitiba| PR|       TV|    Móveis|   WHATSAPP|      NULL|   R$6406.28|R$7281.15|   79258.38|                104.7%|     Dr. Renan Sales|montenegroantonel...|    (071) 3733 2421|   2024-03-04|\n",
      "| vnd8482|1987-03-20|       Cecília Sales|370.549.281-05|        Recife| SP|BICICLETA|    MÓVEIS|        app|      NULL|   R$2798.28|  5464.22|R$ 56425.78|                  0.64|         Lunna Pinto|maria-luizarocha@...|+55 (051) 0459-4452|         NULL|\n",
      "| vnd4681|1973-06-19|   Allana Nascimento|   18560472371|     Fortaleza| CE|Bicicleta|Eletrônico|        APP|      45.0|     2586.04| R$5954.1|R$ 34167.45|                  1.16|      Rafael da Cruz|montenegroana-cec...|    (041) 1703-7693|   2021-11-30|\n",
      "| vnd6378|2022-12-19|      Daniel Barbosa|024.713.658-17|rio de janeiro| PE|   Boneca|AUTOMOTIVO|   Telefone|       4.0|   R$5275.09|  2325.27|   20431.01|                 91.4%|  Srta. Lara Andrade|casa-grandejose@e...|    (021) 6380 7596|   2024-06-28|\n",
      "| vnd5357|1983-12-30|Anthony Gabriel Dias|245.631.809-98|     Fortaleza| SP|   Boneca|   esporte|   WhatsApp|      NULL|     4284.04|   5343.9|R$ 47888.55|                 60.6%|      Maysa Oliveira|cecilia47@example...|    (051) 6978 5559|   2024-01-17|\n",
      "| vnd2217|1975-11-12|   Benjamin da Cunha|641.590.278-49|     Fortaleza| RJ|Bicicleta|   Esporte|   WhatsApp|      NULL|  R$19674.92|  2005.88|       NULL|                   0.9|                DAVI|silvavitor-hugo@e...|         6716190546|         NULL|\n",
      "| vnd7015|2023-04-19|      Dr. Igor Moura|156.837.042-35|Belo Horizonte| PE|  Perfume|    beleza|   Telefone|       4.0|  R$36878.14|R$4917.91|       NULL|                 75.7%|   Theo da Conceição|das-nevesvalentin...|       81 0619-1768|   2021-04-18|\n",
      "| vnd9598|16/05/2025|     Dr. Cauê Moraes|   97365108240|Rio de Janeiro| RJ| Notebook|    Móveis|   WhatsApp|      NULL|    31338.13|   7787.0|R$ 62366.92|                  0.62|   Davi Miguel Ramos|joao-guilherme90@...|         7381193138|   2021-10-17|\n",
      "| vnd4403|2024-08-06|Dra. Vitória Ribeiro|930.658.427-00|      curitiba| BA|  Relógio|    Móveis|       Loja|      10.0|    37724.17|R$6245.05|       NULL|                  1.14|     Dr. Rael Fogaça|macedoemilly@@exa...|         3204924134|         NULL|\n",
      "| vnd2800|24/02/2025|   José Pedro Aragão|724.106.389-96|     Fortaleza| pe|  Perfume|Automotivo|       loja|      32.0|  R$41385.21|R$3758.17|       NULL|                  0.94|                 ZOE| joana58@example.org|    (071) 6803-0110|         NULL|\n",
      "| vnd6778|2025-02-15|                NULL|405.768.291-02|        Recife| DF|  Perfume|Automotivo|        APP|      NULL|  R$40778.25|R$5386.32|       NULL|                114.0%|           Liam Leão|matteo52@example.com|    (011) 0896 9109|         NULL|\n",
      "| vnd2811|25/04/2025|          Liz Pastor|147.905.386-48|      Salvador| PR|Bicicleta|    Beleza|       Loja|      NULL|  R$24214.26|R$6451.94|R$ 73022.36|                 80.5%|Vitor Gabriel Siq...|fernandoviana@exa...|       21 0204-7195|   2021-04-15|\n",
      "| vnd7003|1999-08-21|        Stella Sales|601.842.395-24|     Fortaleza| ce|Bicicleta|    beleza|   Telefone|      27.0|    12607.94|  3921.59| R$ 50798.7|                  1.02|          Cauã Rocha|moreiramaya@@exam...|   +55 11 3344 8546|   2024-07-11|\n",
      "| vnd7510|22/08/2025|    Eduarda Siqueira|   48651729049|      Salvador| SP|  Relógio|Brinquedos|     online|      NULL|  R$39844.87|  3245.26|R$ 51532.19|                  0.63|             VICENTE|machadoemanuelly@...|    (031) 0259 0984|         NULL|\n",
      "| vnd1544|2010-12-20|Dra. Ana Júlia Ba...|857.294.306-47|Rio de Janeiro| MG|     SOFÁ|eletrônico|   whatsapp|      NULL|     6373.36|  7861.83|   47217.87|                  0.99|         Luísa Pinto|sophie65@example.org|         2379239563|   2023-08-25|\n",
      "| vnd8879|1990-01-03|  Sr. Pietro da Cruz|853.029.714-88|      Salvador| PE| Notebook|    Beleza|   WhatsApp|      12.0|    15442.14|R$1696.96|R$ 59617.27|                  0.54|       Alexia Garcia|maria-lizda-mota@...|       21 3815 2746|   2021-02-22|\n",
      "| vnd1729|1992-02-24|        Elisa Araújo|951.428.630-89|     São Paulo| MG| Capacete|   Esporte|   Telefone|      NULL|  R$44258.17|  4418.07|R$ 40423.64|                119.4%|    Dr. Otávio Sousa|santosnoah@exampl...|+55 (081) 0006 5596|   2024-02-27|\n",
      "| vnd7696|03/03/2025|Srta. Ana Laura F...|517.940.268-94|      Brasília| MG|    Sofá |Automotivo|   WhatsApp|      NULL|    48090.36|  4781.81|   43159.57|                  1.13|          Dante Rios|diasluan@example.net|         7104889305|   2023-09-04|\n",
      "| vnd1619|30/01/2025|       Isabel Santos|   09132546815|      Salvador| CE|   Boneca|   Esporte|   Telefone|      NULL|   R$45968.1|R$2284.07|R$ 54820.67|                 57.5%|Dra. Gabrielly No...|  sara95@example.com|      0300-904-6013|   2022-11-16|\n",
      "+--------+----------+--------------------+--------------+--------------+---+---------+----------+-----------+----------+------------+---------+-----------+----------------------+--------------------+--------------------+-------------------+-------------+\n",
      "only showing top 20 rows\n"
     ]
    }
   ],
   "source": []
  }
 ],
 "metadata": {
  "kernelspec": {
   "display_name": "Python 3",
   "language": "python",
   "name": "python3"
  },
  "language_info": {
   "codemirror_mode": {
    "name": "ipython",
    "version": 3
   },
   "file_extension": ".py",
   "mimetype": "text/x-python",
   "name": "python",
   "nbconvert_exporter": "python",
   "pygments_lexer": "ipython3",
   "version": "3.10.11"
  }
 },
 "nbformat": 4,
 "nbformat_minor": 5
}
