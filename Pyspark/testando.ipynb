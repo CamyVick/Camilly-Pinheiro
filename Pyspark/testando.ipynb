{
 "cells": [
  {
   "cell_type": "code",
   "execution_count": 2,
   "id": "749281f4",
   "metadata": {},
   "outputs": [],
   "source": [
    "import os \n",
    "import sys \n",
    "\n",
    "os.environ['PYSPARK_PYTHON'] = sys.executable\n",
    "os.environ['PYSPARK_DRIVER_PYTHON'] = sys.executable\n"
   ]
  },
  {
   "cell_type": "code",
   "execution_count": 3,
   "id": "4478910d",
   "metadata": {},
   "outputs": [],
   "source": [
    "from pyspark.sql import SparkSession\n",
    "from pyspark.sql.functions import *\n",
    "from pyspark.sql.types import *"
   ]
  },
  {
   "cell_type": "code",
   "execution_count": 4,
   "id": "6c1e3843",
   "metadata": {},
   "outputs": [],
   "source": [
    "spark = (\n",
    "    SparkSession.builder\n",
    "    .master('local')\n",
    "    .appName('Datas')\n",
    "    .getOrCreate()\n",
    "\n",
    ")"
   ]
  },
  {
   "cell_type": "code",
   "execution_count": 5,
   "id": "27c5984e",
   "metadata": {},
   "outputs": [],
   "source": [
    "df = spark.read.csv('Pyspark/Datas.csv', header=True, inferSchema=True,sep=';')"
   ]
  },
  {
   "cell_type": "code",
   "execution_count": 19,
   "id": "ef0525b3",
   "metadata": {},
   "outputs": [],
   "source": [
    "df_antigo = spark.read.csv('Pyspark/Datas.csv', header=True, inferSchema=True,sep=';')"
   ]
  },
  {
   "cell_type": "code",
   "execution_count": 6,
   "id": "5a985a83",
   "metadata": {},
   "outputs": [
    {
     "name": "stdout",
     "output_type": "stream",
     "text": [
      "+----------+----------+----------+\n",
      "|     Data1|     Data2|     Data3|\n",
      "+----------+----------+----------+\n",
      "|01/01/2025|2025-01-01|01.01.2025|\n",
      "|02/01/2025|2025-01-02|02.01.2025|\n",
      "|03/01/2025|2025-01-03|03.01.2025|\n",
      "|04/01/2025|2025-01-04|04.01.2025|\n",
      "|05/01/2025|2025-01-05|05.01.2025|\n",
      "|06/01/2025|2025-01-06|06.01.2025|\n",
      "|07/01/2025|2025-01-07|07.01.2025|\n",
      "|08/01/2025|2025-01-08|08.01.2025|\n",
      "|09/01/2025|2025-01-09|09.01.2025|\n",
      "|10/01/2025|2025-01-10|10.01.2025|\n",
      "|11/01/2025|2025-01-11|11.01.2025|\n",
      "|12/01/2025|2025-01-12|12.01.2025|\n",
      "+----------+----------+----------+\n",
      "\n",
      "root\n",
      " |-- Data1: string (nullable = true)\n",
      " |-- Data2: date (nullable = true)\n",
      " |-- Data3: string (nullable = true)\n",
      "\n"
     ]
    }
   ],
   "source": [
    "df.show()\n",
    "df.printSchema()"
   ]
  },
  {
   "cell_type": "code",
   "execution_count": 9,
   "id": "23dc5ae6",
   "metadata": {},
   "outputs": [],
   "source": [
    "dia = udf(lambda data1: data1.split('/')[0])"
   ]
  },
  {
   "cell_type": "code",
   "execution_count": 10,
   "id": "91596e25",
   "metadata": {},
   "outputs": [],
   "source": [
    "mes = udf(lambda data1: data1.split('/')[1])"
   ]
  },
  {
   "cell_type": "code",
   "execution_count": 11,
   "id": "d2b92b61",
   "metadata": {},
   "outputs": [],
   "source": [
    "ano = udf(lambda data1: data1.split('/')[2])"
   ]
  },
  {
   "cell_type": "code",
   "execution_count": 12,
   "id": "bc1be1a7",
   "metadata": {},
   "outputs": [
    {
     "name": "stdout",
     "output_type": "stream",
     "text": [
      "+----------+----------+----------+---+---+----+\n",
      "|     Data1|     Data2|     Data3|Dia|Mês| Ano|\n",
      "+----------+----------+----------+---+---+----+\n",
      "|01/01/2025|2025-01-01|01.01.2025| 01| 01|2025|\n",
      "|02/01/2025|2025-01-02|02.01.2025| 02| 01|2025|\n",
      "|03/01/2025|2025-01-03|03.01.2025| 03| 01|2025|\n",
      "|04/01/2025|2025-01-04|04.01.2025| 04| 01|2025|\n",
      "|05/01/2025|2025-01-05|05.01.2025| 05| 01|2025|\n",
      "|06/01/2025|2025-01-06|06.01.2025| 06| 01|2025|\n",
      "|07/01/2025|2025-01-07|07.01.2025| 07| 01|2025|\n",
      "|08/01/2025|2025-01-08|08.01.2025| 08| 01|2025|\n",
      "|09/01/2025|2025-01-09|09.01.2025| 09| 01|2025|\n",
      "|10/01/2025|2025-01-10|10.01.2025| 10| 01|2025|\n",
      "|11/01/2025|2025-01-11|11.01.2025| 11| 01|2025|\n",
      "|12/01/2025|2025-01-12|12.01.2025| 12| 01|2025|\n",
      "+----------+----------+----------+---+---+----+\n",
      "\n"
     ]
    }
   ],
   "source": [
    "df = df.withColumn('Dia',dia('data1'))\n",
    "df = df.withColumn('Mês',mes('data1'))\n",
    "df = df.withColumn('Ano',ano('data1'))\n",
    "df.show()"
   ]
  },
  {
   "cell_type": "code",
   "execution_count": 15,
   "id": "309368fa",
   "metadata": {},
   "outputs": [],
   "source": [
    "df = df.withColumn('Data_01', concat_ws('-','Ano','Mês','Dia'))"
   ]
  },
  {
   "cell_type": "code",
   "execution_count": 18,
   "id": "fad781e8",
   "metadata": {},
   "outputs": [
    {
     "name": "stdout",
     "output_type": "stream",
     "text": [
      "+----------+----------+----------+\n",
      "|   Data_01|     Data2|     Data3|\n",
      "+----------+----------+----------+\n",
      "|2025-01-01|2025-01-01|01.01.2025|\n",
      "|2025-01-02|2025-01-02|02.01.2025|\n",
      "|2025-01-03|2025-01-03|03.01.2025|\n",
      "|2025-01-04|2025-01-04|04.01.2025|\n",
      "|2025-01-05|2025-01-05|05.01.2025|\n",
      "|2025-01-06|2025-01-06|06.01.2025|\n",
      "|2025-01-07|2025-01-07|07.01.2025|\n",
      "|2025-01-08|2025-01-08|08.01.2025|\n",
      "|2025-01-09|2025-01-09|09.01.2025|\n",
      "|2025-01-10|2025-01-10|10.01.2025|\n",
      "|2025-01-11|2025-01-11|11.01.2025|\n",
      "|2025-01-12|2025-01-12|12.01.2025|\n",
      "+----------+----------+----------+\n",
      "\n"
     ]
    }
   ],
   "source": [
    "df.select('Data_01','Data2','Data3').show()"
   ]
  },
  {
   "cell_type": "code",
   "execution_count": 29,
   "id": "8a797462",
   "metadata": {},
   "outputs": [],
   "source": [
    "dia_ponto = udf(lambda data3: data3.split('.')[0])"
   ]
  },
  {
   "cell_type": "code",
   "execution_count": 30,
   "id": "ea319309",
   "metadata": {},
   "outputs": [],
   "source": [
    "mes_ponto = udf(lambda data3: data3.split('.')[1])"
   ]
  },
  {
   "cell_type": "code",
   "execution_count": 31,
   "id": "f54ee853",
   "metadata": {},
   "outputs": [],
   "source": [
    "ano_ponto = udf(lambda data3: data3.split('.')[2])"
   ]
  },
  {
   "cell_type": "code",
   "execution_count": 32,
   "id": "b248af63",
   "metadata": {},
   "outputs": [],
   "source": [
    "df = df.withColumn('Dia', dia_ponto('Data3'))\n",
    "df = df.withColumn('Mês', mes_ponto('Data3'))\n",
    "df = df.withColumn('Ano', ano_ponto('Data3'))"
   ]
  },
  {
   "cell_type": "code",
   "execution_count": 34,
   "id": "e5f3d60f",
   "metadata": {},
   "outputs": [],
   "source": [
    "df = df.withColumn('Data_03', concat_ws('-','Dia','Mês','Ano'))"
   ]
  },
  {
   "cell_type": "code",
   "execution_count": 39,
   "id": "eecd1bf6",
   "metadata": {},
   "outputs": [
    {
     "name": "stdout",
     "output_type": "stream",
     "text": [
      "+----------+----------+----------+\n",
      "|   Data_01|     Data2|   Data_03|\n",
      "+----------+----------+----------+\n",
      "|2025-01-01|2025-01-01|01-01-2025|\n",
      "|2025-01-02|2025-01-02|02-01-2025|\n",
      "+----------+----------+----------+\n",
      "only showing top 2 rows\n",
      "+----------+----------+----------+\n",
      "|     Data1|     Data2|     Data3|\n",
      "+----------+----------+----------+\n",
      "|01/01/2025|2025-01-01|01.01.2025|\n",
      "|02/01/2025|2025-01-02|02.01.2025|\n",
      "+----------+----------+----------+\n",
      "only showing top 2 rows\n"
     ]
    }
   ],
   "source": [
    "df.select('Data_01','Data2','Data_03').show(2)\n",
    "df_antigo.show(2)"
   ]
  }
 ],
 "metadata": {
  "kernelspec": {
   "display_name": "Python 3",
   "language": "python",
   "name": "python3"
  },
  "language_info": {
   "codemirror_mode": {
    "name": "ipython",
    "version": 3
   },
   "file_extension": ".py",
   "mimetype": "text/x-python",
   "name": "python",
   "nbconvert_exporter": "python",
   "pygments_lexer": "ipython3",
   "version": "3.10.11"
  }
 },
 "nbformat": 4,
 "nbformat_minor": 5
}
